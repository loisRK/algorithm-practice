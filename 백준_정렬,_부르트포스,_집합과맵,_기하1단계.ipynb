{
  "nbformat": 4,
  "nbformat_minor": 0,
  "metadata": {
    "colab": {
      "provenance": [],
      "collapsed_sections": [
        "fPj5vWA9_3bW",
        "3cD9RH10-_Q7",
        "Pf5TUOY6BD8T",
        "2VSvn8xQk6WG",
        "HdyGF4bgpQO-",
        "WJ2-yPAE5T19",
        "rBzv3qj86l4i",
        "641dctnPfKeF",
        "79dWGmyqRnHy",
        "yZpOEHQ8RhbF",
        "YSfRyhn6Rw12",
        "hX-Vw4OIRa1m"
      ],
      "toc_visible": true,
      "authorship_tag": "ABX9TyN6x6UrZq++5I3q+CIfDF6c",
      "include_colab_link": true
    },
    "kernelspec": {
      "name": "python3",
      "display_name": "Python 3"
    },
    "language_info": {
      "name": "python"
    }
  },
  "cells": [
    {
      "cell_type": "markdown",
      "metadata": {
        "id": "view-in-github",
        "colab_type": "text"
      },
      "source": [
        "<a href=\"https://colab.research.google.com/github/loisRK/algorithm-practice/blob/main/%EB%B0%B1%EC%A4%80_%EC%A0%95%EB%A0%AC%2C_%EB%B6%80%EB%A5%B4%ED%8A%B8%ED%8F%AC%EC%8A%A4%2C_%EC%A7%91%ED%95%A9%EA%B3%BC%EB%A7%B5%2C_%EA%B8%B0%ED%95%981%EB%8B%A8%EA%B3%84.ipynb\" target=\"_parent\"><img src=\"https://colab.research.google.com/assets/colab-badge.svg\" alt=\"Open In Colab\"/></a>"
      ]
    },
    {
      "cell_type": "markdown",
      "source": [
        "# 기하 1단계"
      ],
      "metadata": {
        "id": "24vi6nxk_zxS"
      }
    },
    {
      "cell_type": "markdown",
      "source": [
        "## 3053 택시기하학\n",
        "https://www.acmicpc.net/problem/3053"
      ],
      "metadata": {
        "id": "yFVb3Usa6qfb"
      }
    },
    {
      "cell_type": "code",
      "source": [],
      "metadata": {
        "id": "aWWqjOgo6tp_"
      },
      "execution_count": null,
      "outputs": []
    },
    {
      "cell_type": "markdown",
      "source": [
        "## 2477 참외밭\n",
        "https://www.acmicpc.net/problem/2477"
      ],
      "metadata": {
        "id": "bzllsnaMta8r"
      }
    },
    {
      "cell_type": "code",
      "source": [
        "n = int(input())\n",
        "x = []\n",
        "y = []\n",
        "axis = 0;\n",
        "\n",
        "for i in range(6):\n",
        "  temp = list(map(int, input().split()))\n",
        "  if(i==0):\n",
        "    if (temp[0] == 1 or temp[0] == 2):\n",
        "      axis = 0\n",
        "    else:\n",
        "      axis = 1\n",
        "  if(temp[0] == 1 or temp[0] == 2):\n",
        "    x.append(temp[1])\n",
        "  else:\n",
        "    y.append(temp[1])\n",
        "\n",
        "Xidx = x.index(max(x))\n",
        "Yidx = y.index(max(y))\n",
        "\n",
        "if axis == 0:\n",
        "  miniY = abs(y[Xidx%3]-y[(Xidx-1)%3])\n",
        "  miniX = abs(x[Yidx%3]-x[(Yidx+1)%3])\n",
        "else:\n",
        "  miniY = abs(y[Xidx%3]-y[(Xidx+1)%3])\n",
        "  miniX = abs(x[Yidx%3]-x[(Yidx-1)%3])\n",
        "\n",
        "square = max(x)*max(y) - miniX*miniY\n",
        "\n",
        "print(square*n)"
      ],
      "metadata": {
        "id": "CL622ctXtiIF"
      },
      "execution_count": null,
      "outputs": []
    },
    {
      "cell_type": "markdown",
      "source": [
        "## 4153 직각삼각형\n",
        "https://www.acmicpc.net/problem/4153"
      ],
      "metadata": {
        "id": "v9YEBu7LjnPC"
      }
    },
    {
      "cell_type": "code",
      "source": [
        "answer = []\n",
        "\n",
        "while(True):\n",
        "  temp = sorted(list(map(int, input().split())))\n",
        "  if(temp[0] == 0):\n",
        "    break\n",
        "  else:\n",
        "    if((temp[0]**2 + temp[1]**2) == temp[2]**2):\n",
        "      answer.append(\"right\")\n",
        "    else:\n",
        "      answer.append(\"wrong\")\n",
        "\n",
        "for a in answer:\n",
        "  print(a, end=\"\\n\")"
      ],
      "metadata": {
        "colab": {
          "base_uri": "https://localhost:8080/"
        },
        "id": "qJArGxNbjuBp",
        "outputId": "1ab9af78-0c72-46c0-af30-00ce289c690d"
      },
      "execution_count": null,
      "outputs": [
        {
          "output_type": "stream",
          "name": "stdout",
          "text": [
            "6 8 10\n",
            "25 52 60\n",
            "5 12 13\n",
            "0 0 0\n",
            "right\n",
            "wrong\n",
            "right\n"
          ]
        }
      ]
    },
    {
      "cell_type": "markdown",
      "source": [
        "## 3009 네 번째 점\n",
        "https://www.acmicpc.net/problem/3009"
      ],
      "metadata": {
        "id": "WVC4ogjNbSpj"
      }
    },
    {
      "cell_type": "code",
      "source": [
        "a = list(map(int, input().split()))\n",
        "b = list(map(int, input().split()))\n",
        "c = list(map(int, input().split()))\n",
        "\n",
        "x = sorted([a[0], b[0], c[0]])\n",
        "y = sorted([a[1], b[1], c[1]])\n",
        "\n",
        "if(x.count(x[0]) == 1):\n",
        "  X = x[0]\n",
        "else:\n",
        "  X = x[2]\n",
        "\n",
        "if(y.count(y[0]) == 1):\n",
        "  Y = y[0]\n",
        "else:\n",
        "  Y = y[2]\n",
        "\n",
        "print(X, Y)"
      ],
      "metadata": {
        "colab": {
          "base_uri": "https://localhost:8080/"
        },
        "id": "DhOPWKwDbWVJ",
        "outputId": "a5121606-9058-414b-a36d-73a95418cfbc"
      },
      "execution_count": null,
      "outputs": [
        {
          "output_type": "stream",
          "name": "stdout",
          "text": [
            "30 20\n",
            "10 10 \n",
            "10 20\n",
            "30 10\n"
          ]
        }
      ]
    },
    {
      "cell_type": "markdown",
      "source": [
        "## 1085 직사각형에서탈출\n",
        "https://www.acmicpc.net/problem/1085"
      ],
      "metadata": {
        "id": "fPj5vWA9_3bW"
      }
    },
    {
      "cell_type": "code",
      "source": [
        "x, y, n, m = map(int, input().split())\n",
        "\n",
        "answer = [x, y, n-x, m-y]\n",
        "print(min(answer))"
      ],
      "metadata": {
        "id": "CgF1qhNS_-kd",
        "colab": {
          "base_uri": "https://localhost:8080/"
        },
        "outputId": "8142f91f-5c8f-44c1-b7f4-c5627d254e8f"
      },
      "execution_count": null,
      "outputs": [
        {
          "output_type": "stream",
          "name": "stdout",
          "text": [
            "653 375 1000 1000\n",
            "347\n"
          ]
        }
      ]
    },
    {
      "cell_type": "markdown",
      "source": [
        "# 집합과 맵"
      ],
      "metadata": {
        "id": "VC7CRvdBIgUA"
      }
    },
    {
      "cell_type": "markdown",
      "source": [
        "## 11478 서로 다른 부분 문자열의 개수\n",
        "https://www.acmicpc.net/problem/11478"
      ],
      "metadata": {
        "id": "uLINx_FmO2QS"
      }
    },
    {
      "cell_type": "code",
      "source": [
        "s = input()\n",
        "ans = set()\n",
        "\n",
        "for i in range(len(s)):\n",
        "  for j in range(i, len(s)):\n",
        "    temp = s[i:j+1]\n",
        "    ans.add(temp)\n",
        "    \n",
        "print(len(ans))"
      ],
      "metadata": {
        "colab": {
          "base_uri": "https://localhost:8080/"
        },
        "id": "rzDrQn-fO6p9",
        "outputId": "09e5341d-79a7-4d5c-fd15-360ad317089f"
      },
      "execution_count": null,
      "outputs": [
        {
          "output_type": "stream",
          "name": "stdout",
          "text": [
            "ababc\n",
            "12\n"
          ]
        }
      ]
    },
    {
      "cell_type": "markdown",
      "source": [
        "## 1269 대칭차집합\n",
        "https://www.acmicpc.net/problem/1269\n"
      ],
      "metadata": {
        "id": "3ye6kTkG1qWW"
      }
    },
    {
      "cell_type": "code",
      "source": [
        "n, m = map(int, input().split())\n",
        "nList = set(map(int, input().split()))\n",
        "mList = set(map(int, input().split()))\n",
        "\n",
        "\n",
        "print(len(list(nList-mList)+list(mList-nList)))"
      ],
      "metadata": {
        "colab": {
          "base_uri": "https://localhost:8080/"
        },
        "id": "pgh4FHhtNWfL",
        "outputId": "a888d9be-3dfd-40cf-fc0b-dd2e9b64cb33"
      },
      "execution_count": null,
      "outputs": [
        {
          "output_type": "stream",
          "name": "stdout",
          "text": [
            "3 5\n",
            "1 2 4\n",
            "2 3 4 5 6\n",
            "4\n"
          ]
        }
      ]
    },
    {
      "cell_type": "markdown",
      "source": [
        "## 1764 듣보잡\n",
        "https://www.acmicpc.net/problem/1764"
      ],
      "metadata": {
        "id": "3cD9RH10-_Q7"
      }
    },
    {
      "cell_type": "code",
      "source": [
        "n, m = map(int, input().split())\n",
        "dList = set([input() for _ in range(n)])\n",
        "tList = set([input() for _ in range(m)])\n",
        "\n",
        "answer = list(dList&tList)\n",
        "\n",
        "answer.sort()\n",
        "print(len(answer))\n",
        "for a in answer:\n",
        "  print(a, end=\"\\n\")"
      ],
      "metadata": {
        "colab": {
          "base_uri": "https://localhost:8080/"
        },
        "id": "9NBoiHacGzVe",
        "outputId": "6864a956-d976-4a50-fe4f-862c5c0b2179"
      },
      "execution_count": null,
      "outputs": [
        {
          "output_type": "stream",
          "name": "stdout",
          "text": [
            "3 4\n",
            "ohhenrie\n",
            "charlie\n",
            "baesangwook\n",
            "obama\n",
            "baesangwook\n",
            "ohhenrie\n",
            "clinton\n",
            "2\n",
            "baesangwook\n",
            "ohhenrie\n"
          ]
        }
      ]
    },
    {
      "cell_type": "code",
      "source": [
        "# 시간초과\n",
        "import sys\n",
        "input = sys.stdin.readline\n",
        "\n",
        "n, m = map(int, input().split())\n",
        "dList = [input() for _ in range(n)]\n",
        "answer = dict()\n",
        "cnt = 0\n",
        "\n",
        "for _ in range(m):\n",
        "  i = input()\n",
        "  if i in dList:\n",
        "    answer[cnt] = str(i)\n",
        "    cnt += 1\n",
        "\n",
        "answer = sorted(answer.values(), key=lambda x:x)\n",
        "\n",
        "sys.stdout.write(answer.size())\n",
        "sys.stdout.write(\"\\n\")\n",
        "for a in answer.values():\n",
        "  sys.stdout.write(a)\n",
        "  sys.stdout.write(\"\\n\")\n"
      ],
      "metadata": {
        "id": "tNUQ7agN_C_f"
      },
      "execution_count": null,
      "outputs": []
    },
    {
      "cell_type": "markdown",
      "source": [
        "## 10816 숫자 카드2\n",
        "https://www.acmicpc.net/problem/10816"
      ],
      "metadata": {
        "id": "xlqzlZMFtfmC"
      }
    },
    {
      "cell_type": "code",
      "source": [
        "# hashmap\n",
        "N = map(int, input().split())\n",
        "M = map(int, input().split())\n",
        "\n",
        "hashmap = {}\n",
        "\n",
        "for n in N:\n",
        "  if n in hashmap:\n",
        "    hashmap[n] += 1\n",
        "  else:\n",
        "    hashmap[n] = 1\n",
        "\n",
        "for m in M:\n",
        "  if m in hashmap:\n",
        "    print(hashmap[m], end=\" \")\n",
        "  else:\n",
        "    print(0, end=\" \")"
      ],
      "metadata": {
        "colab": {
          "base_uri": "https://localhost:8080/"
        },
        "id": "58gMjhAdBPty",
        "outputId": "d9e091cb-02a5-4c89-e2ca-e9e8a33d44d1"
      },
      "execution_count": null,
      "outputs": [
        {
          "output_type": "stream",
          "name": "stdout",
          "text": [
            "6 3 2 10 10 10 -10 -10 7 3\n",
            "10 9 -5 2 3 4 5 -10\n",
            "3 0 0 1 2 0 0 2 "
          ]
        }
      ]
    },
    {
      "cell_type": "markdown",
      "source": [
        "## 1620 나는야 포켓몬 마스터 이다솜\n",
        "https://www.acmicpc.net/problem/1620"
      ],
      "metadata": {
        "id": "y4kvLLXRsfsF"
      }
    },
    {
      "cell_type": "code",
      "source": [
        "# import sys\n",
        "# input = sys.stdin.readline\n",
        "\n",
        "n, m = map(int, input().split())\n",
        "pocketmon = {i+1:input() for i in range(n)}\n",
        "quest = [input() for _ in range(m)]\n",
        "re_pocket = dict(map(reversed,pocketmon.items()))\n",
        "\n",
        "for q in quest:\n",
        "  if q.isdigit():\n",
        "    print(pocketmon[int(q)])\n",
        "  else:\n",
        "    print(re_pocket[q])\n",
        "\n",
        "\n",
        "# print(pocketmon)\n",
        "# print(quest)"
      ],
      "metadata": {
        "id": "o0xSCxV9slIQ",
        "colab": {
          "base_uri": "https://localhost:8080/"
        },
        "outputId": "c60ffc09-af4f-4606-a320-a660b7d3beee"
      },
      "execution_count": null,
      "outputs": [
        {
          "output_type": "stream",
          "name": "stdout",
          "text": [
            "3 2\n",
            "Raticate\n",
            "Spearow\n",
            "Ekans\n",
            "1\n",
            "Ekans\n",
            "Spearow\n",
            "2\n"
          ]
        }
      ]
    },
    {
      "cell_type": "code",
      "source": [
        "print(int(quest[0]))"
      ],
      "metadata": {
        "colab": {
          "base_uri": "https://localhost:8080/"
        },
        "id": "tdEyEZbhfVBC",
        "outputId": "81b1d9c7-f947-48e7-e930-a244ee058f29"
      },
      "execution_count": null,
      "outputs": [
        {
          "output_type": "stream",
          "name": "stdout",
          "text": [
            "0\n"
          ]
        }
      ]
    },
    {
      "cell_type": "markdown",
      "source": [
        "## 14425 문자열집합\n",
        "https://www.acmicpc.net/problem/14425"
      ],
      "metadata": {
        "id": "eX1oSo3jsEvD"
      }
    },
    {
      "cell_type": "code",
      "source": [
        "# https://jinho-study.tistory.com/980\n",
        "import sys\n",
        "input = sys.stdin.readline\n",
        "\n",
        "n, m = map(int, input().split())\n",
        "s = set([input() for _ in range(n)])\n",
        "cnt = 0\n",
        "for _ in range(m):\n",
        "  t = input()\n",
        "  if t in s:\n",
        "    cnt += 1\n",
        "\n",
        "print(cnt)"
      ],
      "metadata": {
        "colab": {
          "base_uri": "https://localhost:8080/"
        },
        "id": "1Z7dcQxX4vM8",
        "outputId": "e1a0dc3e-affc-420f-8e02-c88559472b27"
      },
      "execution_count": null,
      "outputs": [
        {
          "output_type": "stream",
          "name": "stdout",
          "text": [
            "5\n",
            "['startlink', 'codeplus', 'codeminus', 'startlink', 'codinghs']\n",
            "[['startlink', 9], ['codeplus', 8], ['codeminus', 9], ['startlink', 9], ['codinghs', 8]]\n",
            "['codeplus', 'codinghs', 'startlink', 'codeminus', 'startlink']\n"
          ]
        }
      ]
    },
    {
      "cell_type": "code",
      "source": [
        "import sys\n",
        "\n",
        "# n, m = map(int, sys.stdin.readline().split())\n",
        "n, m = map(int, input().split())\n",
        "# sList = [sys.stdin.readline() for a in range(m)]\n",
        "sList = [input() for a in range(n+m)]\n",
        "nList = ['']*n\n",
        "mList = ['']*m\n",
        "\n",
        "for i in range(n):\n",
        "  nList[i] = sList[i]\n",
        "\n",
        "for i in range(m):\n",
        "  mList[i] = sList[n+i]\n",
        "\n",
        "nList.sort(key=len)\n",
        "mList.sort(key=len)\n",
        "\n",
        "# 이진탐색 함수\n",
        "def bin_search(array, target, start, end):\n",
        "  if start > end:\n",
        "    return None\n",
        "  mid = (start + end) // 2\n",
        "\n",
        "  # 원하는 값을 찾은 경우 인덱스 반환\n",
        "  if len(array[mid]) == len(target):\n",
        "    return mid\n",
        "  # 원하는 값이 중간점의 값보다 작은경우 왼쪽만 탐색\n",
        "  elif len(array[mid]) > len(target):\n",
        "    return bin_search(array, target, start, mid-1)\n",
        "  # 원하는 값이 중간점의 값보다 큰경우 오르쪽만 탐색\n",
        "  else:\n",
        "    return bin_search(array, target, mid+1, end)\n",
        "\n",
        "result = 0\n",
        "for i in range(n):\n",
        "  a = bin_search(nList, mList[i], 0, n-1)\n",
        "  if(mList[i] == nList[a]):\n",
        "    result += 1\n",
        "\n",
        "print(result)"
      ],
      "metadata": {
        "id": "QCRj6u6BsH37"
      },
      "execution_count": null,
      "outputs": []
    },
    {
      "cell_type": "markdown",
      "source": [
        "## 10815 숫자 카드"
      ],
      "metadata": {
        "id": "jxV6eBSzIlhx"
      }
    },
    {
      "cell_type": "code",
      "source": [
        "n = int(input())\n",
        "nList = [int(a) for a in input().split()]\n",
        "m = int(input())\n",
        "mList = [int(a) for a in input().split()]\n",
        "\n",
        "answer = [0 for i in range(m)]\n",
        "\n",
        "for a in range(m):\n",
        "  if(mList[a] in nList):\n",
        "    answer[a] = 1\n",
        "  else:\n",
        "    answer[a] = 0\n",
        "\n",
        "for a in range(m):\n",
        "  print(answer[a],end=\" \")"
      ],
      "metadata": {
        "id": "sl_MO_SGIktR",
        "colab": {
          "base_uri": "https://localhost:8080/"
        },
        "outputId": "bd1a7ad8-c406-4631-cbf4-f33bf33a9a70"
      },
      "execution_count": null,
      "outputs": [
        {
          "output_type": "stream",
          "name": "stdout",
          "text": [
            "5\n",
            "6 3 2 10 -10\n",
            "8\n",
            "10 9 -5 2 3 4 5 -10\n",
            "1 0 0 1 1 0 0 1 "
          ]
        }
      ]
    },
    {
      "cell_type": "markdown",
      "source": [
        "# 부르트포스"
      ],
      "metadata": {
        "id": "Pf5TUOY6BD8T"
      }
    },
    {
      "cell_type": "markdown",
      "source": [
        "## 2798 블랙잭"
      ],
      "metadata": {
        "id": "WXf4lkJ1BH8c"
      }
    },
    {
      "cell_type": "code",
      "source": [
        "max(3, 6)\n",
        "\n",
        "# del max"
      ],
      "metadata": {
        "colab": {
          "base_uri": "https://localhost:8080/"
        },
        "id": "t0UvHkXXapaA",
        "outputId": "1fd5e9bd-fe64-4093-9531-89eb04865561"
      },
      "execution_count": null,
      "outputs": [
        {
          "output_type": "execute_result",
          "data": {
            "text/plain": [
              "6"
            ]
          },
          "metadata": {},
          "execution_count": 29
        }
      ]
    },
    {
      "cell_type": "code",
      "source": [
        "n, m = input().split()\n",
        "print(n, m)\n",
        "num = [int(a) for a in input().split()]\n",
        "print(num)\n",
        "sum_n = 0\n",
        "max_n = 0\n",
        "\n",
        "for i in range(int(n)):\n",
        "  for j in range(i+1,int(n)):\n",
        "    for k in range(j+1,int(n)):\n",
        "      sum_n = num[k] + num[j] + num[i]\n",
        "      if(sum_n > int(m)):\n",
        "        continue\n",
        "      else:\n",
        "        max_n = max(sum_n, max_n)\n",
        "        \n",
        "print(max_n)"
      ],
      "metadata": {
        "colab": {
          "base_uri": "https://localhost:8080/"
        },
        "id": "5xNEwM5vBKZi",
        "outputId": "1d2c2ea1-c029-415a-8dc5-6387fb63985f"
      },
      "execution_count": null,
      "outputs": [
        {
          "output_type": "stream",
          "name": "stdout",
          "text": [
            "5 21\n",
            "5 21\n",
            "5 6 7 8 9\n",
            "[5, 6, 7, 8, 9]\n",
            "21\n"
          ]
        }
      ]
    },
    {
      "cell_type": "markdown",
      "source": [
        "## 2231 분해합"
      ],
      "metadata": {
        "id": "2VSvn8xQk6WG"
      }
    },
    {
      "cell_type": "code",
      "source": [
        "n = 216\n",
        "temp = sum(list(map(int, str(n))))\n",
        "print(temp)"
      ],
      "metadata": {
        "colab": {
          "base_uri": "https://localhost:8080/"
        },
        "id": "R77W15WXo-b6",
        "outputId": "4afe54a5-117f-4675-b847-fb41b243b6ce"
      },
      "execution_count": null,
      "outputs": [
        {
          "output_type": "stream",
          "name": "stdout",
          "text": [
            "9\n"
          ]
        }
      ]
    },
    {
      "cell_type": "code",
      "source": [
        "n = str(input())\n",
        "\n",
        "for i in range(1, int(n)+1):\n",
        "  temp = sum(list(map(int, str(i))))\n",
        "  result = i + temp\n",
        "  if result == int(n):\n",
        "    print(i)\n",
        "    break\n",
        "  \n",
        "  if i == int(n):\n",
        "    print(0)"
      ],
      "metadata": {
        "colab": {
          "base_uri": "https://localhost:8080/"
        },
        "id": "mm-0Bih7k-Lw",
        "outputId": "d598b0cd-8820-4fcd-a8d5-14772ba4ea4e"
      },
      "execution_count": null,
      "outputs": [
        {
          "output_type": "stream",
          "name": "stdout",
          "text": [
            "216\n",
            "198\n"
          ]
        }
      ]
    },
    {
      "cell_type": "markdown",
      "source": [
        "## 7568 덩치"
      ],
      "metadata": {
        "id": "HdyGF4bgpQO-"
      }
    },
    {
      "cell_type": "code",
      "source": [
        "def plus(i, j):\n",
        "  return (i + j)\n",
        "\n",
        "plus(2,3)"
      ],
      "metadata": {
        "colab": {
          "base_uri": "https://localhost:8080/"
        },
        "id": "PE3HDJLTB0TD",
        "outputId": "8f573c85-754b-437e-a9dd-1864cba60e9b"
      },
      "execution_count": null,
      "outputs": [
        {
          "output_type": "execute_result",
          "data": {
            "text/plain": [
              "5"
            ]
          },
          "metadata": {},
          "execution_count": 3
        }
      ]
    },
    {
      "cell_type": "code",
      "source": [
        "n = int(input())\n",
        "phy = []\n",
        "\n",
        "for i in range(n):\n",
        "  phy.append([a for a in input().split()])\n",
        "\n",
        "for i in range(n):\n",
        "  grade = 1\n",
        "  for j in range(n):\n",
        "    if (phy[i][0] < phy[j][0]) & (phy[i][1] < phy[j][1]):\n",
        "      grade += 1\n",
        "  print(grade, end=\" \")\n",
        "print(phy)"
      ],
      "metadata": {
        "colab": {
          "base_uri": "https://localhost:8080/"
        },
        "id": "d6bQFqDupW6q",
        "outputId": "44988304-02c5-4bff-efb0-da35d074f7aa"
      },
      "execution_count": null,
      "outputs": [
        {
          "output_type": "stream",
          "name": "stdout",
          "text": [
            "5\n",
            "55 185\n",
            "56 183\n",
            "88 186\n",
            "60 175\n",
            "55 160\n",
            "2 2 1 2 4 [['55', '185'], ['56', '183'], ['88', '186'], ['60', '175'], ['55', '160']]\n"
          ]
        }
      ]
    },
    {
      "cell_type": "code",
      "source": [
        "N = int(input())\n",
        "li = []\n",
        "\n",
        "for i in range(N):\n",
        "    w, h = map(int, input().split())\n",
        "    li.append([w, h])\n",
        "\n",
        "for i in range(N):\n",
        "    rank = 1\n",
        "    for j in range(N):\n",
        "        if (li[i][0] < li[j][0]) and (li[i][1] <  li[j][1]):\n",
        "            rank += 1 \n",
        "    print(rank, end = ' ')"
      ],
      "metadata": {
        "id": "TJLvS33F4XeY"
      },
      "execution_count": null,
      "outputs": []
    },
    {
      "cell_type": "markdown",
      "source": [
        "## 1018 체스판 다시 칠하기\n",
        "https://www.acmicpc.net/problem/1018"
      ],
      "metadata": {
        "id": "WJ2-yPAE5T19"
      }
    },
    {
      "cell_type": "code",
      "source": [
        "n, m = map(int, input().split())\n",
        "\n",
        "l = []\n",
        "mini = []\n",
        "\n",
        "for _ in range(n):\n",
        "  l.append(input())\n",
        "\n",
        "for a in range(n-7):\n",
        "  for i in range(m-7):\n",
        "    idx1 = 0\n",
        "    idx2 = 0\n",
        "    for b in range(a, a+8):\n",
        "      for j in range(i, i+8):\n",
        "        if (j+b)%2 == 0:\n",
        "          if l[b][j] != 'W' : idx1 += 1\n",
        "          if l[b][j] != 'B' : idx2 += 1\n",
        "        else:\n",
        "          if l[b][j] != 'B' : idx1 += 1\n",
        "          if l[b][j] != 'W' : idx2 += 1\n",
        "    mini.append(idx1)\n",
        "    mini.append(idx2)\n",
        "\n",
        "print(min(mini))"
      ],
      "metadata": {
        "id": "z_BMPIct5XMc",
        "colab": {
          "base_uri": "https://localhost:8080/"
        },
        "outputId": "2029f240-7fd4-40b7-a5a8-ad297b721ee3"
      },
      "execution_count": null,
      "outputs": [
        {
          "output_type": "stream",
          "name": "stdout",
          "text": [
            "8 8\n",
            "WBWBWBWB\n",
            "BWBWBWBW\n",
            "WBWBWBWB\n",
            "BWBBBWBW\n",
            "WBWBWBWB\n",
            "BWBWBWBW\n",
            "WBWBWBWB\n",
            "BWBWBWBW\n",
            "1\n"
          ]
        }
      ]
    },
    {
      "cell_type": "markdown",
      "source": [
        "## 1436 영화감독 숌\n",
        "https://www.acmicpc.net/problem/1436"
      ],
      "metadata": {
        "id": "rBzv3qj86l4i"
      }
    },
    {
      "cell_type": "code",
      "source": [
        "n = int(input())\n",
        "\n",
        "f = 666\n",
        "while n != 0:\n",
        "  if '666' in str(f):\n",
        "    n -= 1\n",
        "    if n==0: break\n",
        "  f += 1\n",
        "print(f)"
      ],
      "metadata": {
        "id": "x1fd15656qzC",
        "colab": {
          "base_uri": "https://localhost:8080/"
        },
        "outputId": "51127ac9-5fb5-4bd0-ce8d-2626f8aff981"
      },
      "execution_count": null,
      "outputs": [
        {
          "output_type": "stream",
          "name": "stdout",
          "text": [
            "2\n",
            "1666\n"
          ]
        }
      ]
    },
    {
      "cell_type": "markdown",
      "source": [
        "# 정렬\n",
        "\n",
        "- 버블\n",
        "- 선택\n",
        "- 삽입"
      ],
      "metadata": {
        "id": "641dctnPfKeF"
      }
    },
    {
      "cell_type": "markdown",
      "source": [
        "## #2750, 2751"
      ],
      "metadata": {
        "id": "79dWGmyqRnHy"
      }
    },
    {
      "cell_type": "code",
      "source": [
        "# 시간 초과 \n",
        "\n",
        "import sys\n",
        "\n",
        "a = int(sys.stdin.readline())\n",
        "num = []\n",
        "\n",
        "for i in range(a):\n",
        "  num.append(list(map(int, sys.stdin.readline().split())))\n",
        "\n",
        "for i in range(len(num)):\n",
        "  tmp = i\n",
        "  for j in range(len(num)):\n",
        "    if num[tmp] > num[j]:\n",
        "      tmp = j\n",
        "    num[tmp], num[j] = num[j], num[tmp]\n",
        "\n",
        "for i in range(len(num)):\n",
        "  print(num[i])"
      ],
      "metadata": {
        "colab": {
          "base_uri": "https://localhost:8080/",
          "height": 244
        },
        "id": "0GDBYJfwfDxO",
        "outputId": "f952bad8-bfe6-48b0-bdd9-5d89e59f9cdc"
      },
      "execution_count": null,
      "outputs": [
        {
          "output_type": "error",
          "ename": "ValueError",
          "evalue": "ignored",
          "traceback": [
            "\u001b[0;31m---------------------------------------------------------------------------\u001b[0m",
            "\u001b[0;31mValueError\u001b[0m                                Traceback (most recent call last)",
            "\u001b[0;32m<ipython-input-26-4c36262ae78f>\u001b[0m in \u001b[0;36m<module>\u001b[0;34m\u001b[0m\n\u001b[1;32m      4\u001b[0m \u001b[0;32mimport\u001b[0m \u001b[0msys\u001b[0m\u001b[0;34m\u001b[0m\u001b[0;34m\u001b[0m\u001b[0m\n\u001b[1;32m      5\u001b[0m \u001b[0;34m\u001b[0m\u001b[0m\n\u001b[0;32m----> 6\u001b[0;31m \u001b[0ma\u001b[0m \u001b[0;34m=\u001b[0m \u001b[0mint\u001b[0m\u001b[0;34m(\u001b[0m\u001b[0msys\u001b[0m\u001b[0;34m.\u001b[0m\u001b[0mstdin\u001b[0m\u001b[0;34m.\u001b[0m\u001b[0mreadline\u001b[0m\u001b[0;34m(\u001b[0m\u001b[0;34m)\u001b[0m\u001b[0;34m)\u001b[0m\u001b[0;34m\u001b[0m\u001b[0;34m\u001b[0m\u001b[0m\n\u001b[0m\u001b[1;32m      7\u001b[0m \u001b[0mnum\u001b[0m \u001b[0;34m=\u001b[0m \u001b[0;34m[\u001b[0m\u001b[0;34m]\u001b[0m\u001b[0;34m\u001b[0m\u001b[0;34m\u001b[0m\u001b[0m\n\u001b[1;32m      8\u001b[0m \u001b[0;34m\u001b[0m\u001b[0m\n",
            "\u001b[0;31mValueError\u001b[0m: invalid literal for int() with base 10: ''"
          ]
        }
      ]
    },
    {
      "cell_type": "code",
      "source": [
        "# 2750, 2751\n",
        "# 시간 초과 \n",
        "\n",
        "import sys\n",
        "\n",
        "a = int(sys.stdin.readline())\n",
        "num = [sys.stdin.readlines().strip() for i in range(a)]\n",
        "\n",
        "for i in range(len(num)):\n",
        "  tmp = i\n",
        "  for j in range(len(num)):\n",
        "    if num[tmp] > num[j]:\n",
        "      tmp = j\n",
        "    num[tmp], num[j] = num[j], num[tmp]\n",
        "\n",
        "for i in range(len(num)):\n",
        "  print(num[i])"
      ],
      "metadata": {
        "colab": {
          "base_uri": "https://localhost:8080/",
          "height": 244
        },
        "id": "qdtHTaIBOyU0",
        "outputId": "432ee0d0-4103-4a27-c4f2-e4a816a57490"
      },
      "execution_count": null,
      "outputs": [
        {
          "output_type": "error",
          "ename": "ValueError",
          "evalue": "ignored",
          "traceback": [
            "\u001b[0;31m---------------------------------------------------------------------------\u001b[0m",
            "\u001b[0;31mValueError\u001b[0m                                Traceback (most recent call last)",
            "\u001b[0;32m<ipython-input-27-bb75c7d97f6f>\u001b[0m in \u001b[0;36m<module>\u001b[0;34m\u001b[0m\n\u001b[1;32m      4\u001b[0m \u001b[0;32mimport\u001b[0m \u001b[0msys\u001b[0m\u001b[0;34m\u001b[0m\u001b[0;34m\u001b[0m\u001b[0m\n\u001b[1;32m      5\u001b[0m \u001b[0;34m\u001b[0m\u001b[0m\n\u001b[0;32m----> 6\u001b[0;31m \u001b[0ma\u001b[0m \u001b[0;34m=\u001b[0m \u001b[0mint\u001b[0m\u001b[0;34m(\u001b[0m\u001b[0msys\u001b[0m\u001b[0;34m.\u001b[0m\u001b[0mstdin\u001b[0m\u001b[0;34m.\u001b[0m\u001b[0mreadline\u001b[0m\u001b[0;34m(\u001b[0m\u001b[0;34m)\u001b[0m\u001b[0;34m)\u001b[0m\u001b[0;34m\u001b[0m\u001b[0;34m\u001b[0m\u001b[0m\n\u001b[0m\u001b[1;32m      7\u001b[0m \u001b[0mnum\u001b[0m \u001b[0;34m=\u001b[0m \u001b[0;34m[\u001b[0m\u001b[0msys\u001b[0m\u001b[0;34m.\u001b[0m\u001b[0mstdin\u001b[0m\u001b[0;34m.\u001b[0m\u001b[0mreadlines\u001b[0m\u001b[0;34m(\u001b[0m\u001b[0;34m)\u001b[0m\u001b[0;34m.\u001b[0m\u001b[0mstrip\u001b[0m\u001b[0;34m(\u001b[0m\u001b[0;34m)\u001b[0m \u001b[0;32mfor\u001b[0m \u001b[0mi\u001b[0m \u001b[0;32min\u001b[0m \u001b[0mrange\u001b[0m\u001b[0;34m(\u001b[0m\u001b[0ma\u001b[0m\u001b[0;34m)\u001b[0m\u001b[0;34m]\u001b[0m\u001b[0;34m\u001b[0m\u001b[0;34m\u001b[0m\u001b[0m\n\u001b[1;32m      8\u001b[0m \u001b[0;34m\u001b[0m\u001b[0m\n",
            "\u001b[0;31mValueError\u001b[0m: invalid literal for int() with base 10: ''"
          ]
        }
      ]
    },
    {
      "cell_type": "code",
      "source": [
        "# 2750 답안\n",
        "\n",
        "a = int(input())\n",
        "num = []\n",
        "for i in range(a):\n",
        "  num.append(int(input()))\n",
        "\n",
        "num.sort()\n",
        "\n",
        "for i in range(len(num)):\n",
        "  print(num[i])"
      ],
      "metadata": {
        "id": "RdlVM7tmF7iM"
      },
      "execution_count": null,
      "outputs": []
    },
    {
      "cell_type": "code",
      "source": [
        "# 2751 답안\n",
        "# 시간초과 문제 해결방안 - sys함수 사용\n",
        "\n",
        "import sys\n",
        "\n",
        "a = int(sys.stdin.readline())\n",
        "num = []\n",
        "\n",
        "for i in range(a):\n",
        "  num.append(int(sys.stdin.readline()))\n",
        "\n",
        "num.sort()\n",
        "\n",
        "for i in range(len(num)):\n",
        "  sys.stdout.write(str(num[i])+\"\\n\")"
      ],
      "metadata": {
        "id": "XBil7GMBSKsT"
      },
      "execution_count": null,
      "outputs": []
    },
    {
      "cell_type": "markdown",
      "source": [
        "## #10989"
      ],
      "metadata": {
        "id": "yZpOEHQ8RhbF"
      }
    },
    {
      "cell_type": "code",
      "source": [],
      "metadata": {
        "id": "MO5M1DKGfH-_"
      },
      "execution_count": null,
      "outputs": []
    },
    {
      "cell_type": "markdown",
      "source": [
        "## #1427"
      ],
      "metadata": {
        "id": "YSfRyhn6Rw12"
      }
    },
    {
      "cell_type": "code",
      "source": [
        "# 1427 제출\n",
        "import sys\n",
        "\n",
        "arr = [a for a in str(sys.stdin.readline())]\n",
        "arr.sort(reverse=True)\n",
        "ans = \"\"\n",
        "for a in arr:\n",
        "  ans += a\n",
        "\n",
        "sys.stdout.write(ans)"
      ],
      "metadata": {
        "id": "2dgoJW0sF7eq"
      },
      "execution_count": null,
      "outputs": []
    },
    {
      "cell_type": "code",
      "source": [
        "arr = [a for a in str(input())]\n",
        "arr.sort(reverse=True)\n",
        "ans = \"\"\n",
        "for a in arr:\n",
        "  ans += a\n",
        "\n",
        "print(ans)"
      ],
      "metadata": {
        "colab": {
          "base_uri": "https://localhost:8080/"
        },
        "id": "EweXhwXMRe9P",
        "outputId": "d3a89923-0a4a-452f-c55b-1205a340f7bb"
      },
      "execution_count": null,
      "outputs": [
        {
          "output_type": "stream",
          "name": "stdout",
          "text": [
            "4231\n",
            "['4', '2', '3', '1']\n",
            "4321\n"
          ]
        }
      ]
    },
    {
      "cell_type": "markdown",
      "source": [
        "## #1181"
      ],
      "metadata": {
        "id": "hX-Vw4OIRa1m"
      }
    },
    {
      "cell_type": "code",
      "source": [
        "import sys\n",
        "\n",
        "arr = []\n",
        "for a in range(int(input())):\n",
        "  arr.append(str(sys.stdin.readline()))\n",
        "\n",
        "arr.sort(key=len(arr[i] for i in range(len(arr))))\n",
        "\n",
        "for i in range(len(arr)):\n",
        "  tmp = i\n",
        "  for j in range(len(arr)):\n",
        "    if len(arr[tmp]) == len(arr[j]):\n",
        "      tmp = j\n",
        "    arr[tmp], arr[i] = arr[i], arr[tmp]\n",
        "\n",
        "sys.stdout.write(arr+\"\\n\")"
      ],
      "metadata": {
        "id": "St-2H9R0F7U6"
      },
      "execution_count": null,
      "outputs": []
    },
    {
      "cell_type": "code",
      "source": [
        "import sys\n",
        "\n",
        "arr = []\n",
        "for a in range(int(input())):\n",
        "  arr.append(str(sys.stdin.readline()))\n",
        "\n",
        "arr.sort(key=len)\n",
        "\n",
        "arr.sort()\n",
        "\n",
        "sys.stdout.write(arr+\"\\n\")"
      ],
      "metadata": {
        "id": "u1D2NO7RxNou"
      },
      "execution_count": null,
      "outputs": []
    },
    {
      "cell_type": "code",
      "source": [
        "arr = []\n",
        "\n",
        "for a in range(int(input())):\n",
        "  arr.append(str(input()))\n",
        "\n",
        "arr.sort(key=len)\n",
        "\n",
        "arr.sort()\n",
        "\n",
        "print(arr)"
      ],
      "metadata": {
        "colab": {
          "base_uri": "https://localhost:8080/"
        },
        "id": "tVrEDG0WsTIr",
        "outputId": "ee42552c-1376-43b8-d116-10c6514b86b2"
      },
      "execution_count": null,
      "outputs": [
        {
          "output_type": "stream",
          "name": "stdout",
          "text": [
            "4\n",
            "it\n",
            "i\n",
            "no\n",
            "im\n",
            "['i', 'im', 'it', 'no']\n"
          ]
        }
      ]
    },
    {
      "cell_type": "code",
      "source": [
        "arr = []\n",
        "\n",
        "for a in range(int(input())):\n",
        "  arr.append(str(input()))\n",
        "\n",
        "for i in range(len(arr)):\n",
        "  tmp = i\n",
        "  for j in range(len(arr)):\n",
        "    if len(arr[tmp]) <= len(arr[j]):\n",
        "      tmp = j\n",
        "    arr[tmp], arr[i] = arr[i], arr[tmp]\n",
        "\n",
        "for i in range(len(arr)):\n",
        "  tmp = i\n",
        "  for j in range(len(arr)):\n",
        "    if len(arr[tmp]) == len(arr[j]):\n",
        "      tmp = j\n",
        "    arr[tmp], arr[i] = arr[i], arr[tmp]\n",
        "\n",
        "print(arr)"
      ],
      "metadata": {
        "colab": {
          "base_uri": "https://localhost:8080/"
        },
        "id": "R63YdallfcmW",
        "outputId": "6047ea9e-e5be-4de4-b186-e2431de332d5"
      },
      "execution_count": null,
      "outputs": [
        {
          "output_type": "stream",
          "name": "stdout",
          "text": [
            "4\n",
            "more\n",
            "im\n",
            "it\n",
            "i\n",
            "['i', 'im', 'it', 'more']\n"
          ]
        }
      ]
    }
  ]
}