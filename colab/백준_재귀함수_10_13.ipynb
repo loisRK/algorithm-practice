{
  "nbformat": 4,
  "nbformat_minor": 0,
  "metadata": {
    "colab": {
      "provenance": [],
      "collapsed_sections": [
        "b_rMKLKFxXYR",
        "mOImn342wdu5",
        "wc9bdbKK51ft"
      ],
      "toc_visible": true
    },
    "kernelspec": {
      "name": "python3",
      "display_name": "Python 3"
    },
    "language_info": {
      "name": "python"
    }
  },
  "cells": [
    {
      "cell_type": "markdown",
      "source": [
        "# 11729 하노이 탑 이동 순서\n",
        "https://www.acmicpc.net/problem/11729"
      ],
      "metadata": {
        "id": "NdmYaDSZCorQ"
      }
    },
    {
      "cell_type": "code",
      "source": [],
      "metadata": {
        "id": "NGbdG7uXwFe5"
      },
      "execution_count": null,
      "outputs": []
    },
    {
      "cell_type": "markdown",
      "source": [
        "# 2447 별 찍기 - 10\n",
        "https://www.acmicpc.net/problem/2447"
      ],
      "metadata": {
        "id": "e9ti8rzt_Nhn"
      }
    },
    {
      "cell_type": "code",
      "source": [
        "x = 0\n",
        "n = int(input())\n",
        "\n",
        "\n",
        "\n",
        "def threeStar(){\n",
        "    for i in range():\n",
        "\n",
        "}\n",
        "\n"
      ],
      "metadata": {
        "colab": {
          "base_uri": "https://localhost:8080/"
        },
        "id": "LnocDpF2_Vtf",
        "outputId": "77954d54-f993-46a2-b54c-ed6b9296c507"
      },
      "execution_count": null,
      "outputs": [
        {
          "output_type": "stream",
          "name": "stdout",
          "text": [
            "27\n",
            "<generator object <genexpr> at 0x7f1d3e6c7d50>\n"
          ]
        }
      ]
    },
    {
      "cell_type": "markdown",
      "source": [
        "#24060 알고리즘 수업 - 병합 정렬1\n",
        "https://www.acmicpc.net/problem/24060"
      ],
      "metadata": {
        "id": "MXQR_gJn_IqI"
      }
    },
    {
      "cell_type": "code",
      "source": [],
      "metadata": {
        "id": "mi36E041_NBX"
      },
      "execution_count": null,
      "outputs": []
    },
    {
      "cell_type": "markdown",
      "source": [
        "# 25501 재귀의 귀재\n",
        "https://www.acmicpc.net/problem/25501"
      ],
      "metadata": {
        "id": "brRF3ahD0v64"
      }
    },
    {
      "cell_type": "code",
      "source": [
        "n = int(input())\n",
        "arr = [input() for _ in range(n)]\n",
        "\n",
        "def recursion(s, l, r):\n",
        "    global cnt\n",
        "    cnt += 1\n",
        "    if l >= r: return 1\n",
        "    elif s[l] != s[r]: return 0\n",
        "    else: return recursion(s, l+1, r-1)\n",
        "\n",
        "def isPalindrome(s):\n",
        "    return recursion(s, 0, len(s)-1)\n",
        "\n",
        "for i in range(n):\n",
        "  cnt = 0\n",
        "  print(isPalindrome(arr[i]), cnt)"
      ],
      "metadata": {
        "id": "CqG2Ntz83Fdv",
        "colab": {
          "base_uri": "https://localhost:8080/"
        },
        "outputId": "244ee5bb-cb96-4902-b6da-8438d206e882"
      },
      "execution_count": null,
      "outputs": [
        {
          "output_type": "stream",
          "name": "stdout",
          "text": [
            "5\n",
            "AAA\n",
            "ABBA\n",
            "ABABA\n",
            "ABCA\n",
            "PALINDROME\n",
            "1 2\n",
            "1 3\n",
            "1 3\n",
            "0 2\n",
            "0 1\n"
          ]
        }
      ]
    },
    {
      "cell_type": "markdown",
      "source": [
        "# 10870 피보나치수5"
      ],
      "metadata": {
        "id": "b_rMKLKFxXYR"
      }
    },
    {
      "cell_type": "code",
      "source": [
        "n = int(input())\n",
        "\n",
        "if(n == 0):\n",
        "  print(0)\n",
        "elif(n == 1):\n",
        "  print(1)\n",
        "else:\n",
        "  F = [0]*n\n",
        "  F[0] = 0\n",
        "  F[1] = 1\n",
        "  for i in range(2, n):\n",
        "    F[i] = F[i-1] + F[i-2]\n",
        "  print(F[n-1]+F[n-2])"
      ],
      "metadata": {
        "colab": {
          "base_uri": "https://localhost:8080/"
        },
        "id": "aYG0aKVkxaj4",
        "outputId": "854d6b51-74de-4bb8-da90-1df5c764cfe4"
      },
      "execution_count": null,
      "outputs": [
        {
          "output_type": "stream",
          "name": "stdout",
          "text": [
            "17\n",
            "1597\n"
          ]
        }
      ]
    },
    {
      "cell_type": "markdown",
      "source": [
        "# 10872 팩토리얼"
      ],
      "metadata": {
        "id": "mOImn342wdu5"
      }
    },
    {
      "cell_type": "code",
      "source": [
        "a = int(input())\n",
        "ans = 1\n",
        "for a in range(1, a+1):\n",
        "  ans *= a\n",
        "print(ans)"
      ],
      "metadata": {
        "colab": {
          "base_uri": "https://localhost:8080/"
        },
        "id": "LgV1fCl0wmqA",
        "outputId": "cd4b55bb-8aa6-4f9b-c217-87784c61fe8f"
      },
      "execution_count": null,
      "outputs": [
        {
          "output_type": "stream",
          "name": "stdout",
          "text": [
            "10\n",
            "3628800\n"
          ]
        }
      ]
    },
    {
      "cell_type": "markdown",
      "source": [
        "# 18870 정렬 심화"
      ],
      "metadata": {
        "id": "wc9bdbKK51ft"
      }
    },
    {
      "cell_type": "code",
      "source": [
        "a = int(input())\n",
        "arr = [int(a) for a in list(input().split())]\n",
        "print(arr)\n",
        "ans = sorted(list(set(arr)))\n",
        "print(ans)\n",
        "\n",
        "for i in range(a):\n",
        "  arr[i] = ans.index(arr[i])\n",
        "\n",
        "print(arr)"
      ],
      "metadata": {
        "colab": {
          "base_uri": "https://localhost:8080/"
        },
        "id": "yqdaQDLc68Tb",
        "outputId": "b2ef37e9-62a0-49ea-bd26-64dc2406385a"
      },
      "execution_count": null,
      "outputs": [
        {
          "output_type": "stream",
          "name": "stdout",
          "text": [
            "5\n",
            "2 4 -10 4 -9\n",
            "[2, 4, -10, 4, -9]\n",
            "[-10, -9, 2, 4]\n",
            "[2, 3, 0, 3, 1]\n"
          ]
        }
      ]
    },
    {
      "cell_type": "code",
      "source": [
        "a = int(input())\n",
        "arr = [int(a) for a in list(input().split())]\n",
        "ans = sorted(list(set(arr)))\n",
        "\n",
        "dic = {ans[i]:i for i in range(len(ans))}\n",
        "print(dic)\n",
        "\n",
        "for i in arr:\n",
        "    print(dic[i], end=' ')"
      ],
      "metadata": {
        "colab": {
          "base_uri": "https://localhost:8080/"
        },
        "id": "zct-hztCBBXX",
        "outputId": "8c507818-5b77-4256-d692-17ba218c8c89"
      },
      "execution_count": null,
      "outputs": [
        {
          "output_type": "stream",
          "name": "stdout",
          "text": [
            "5\n",
            "2 4 -10 4 -9\n",
            "{-10: 0, -9: 1, 2: 2, 4: 3}\n",
            "2 3 0 3 1 "
          ]
        }
      ]
    },
    {
      "cell_type": "code",
      "source": [
        "import sys\n",
        "\n",
        "a = int(input())\n",
        "arr = [int(a) for a in list(sys.stdin.readline().split())]\n",
        "ans = sorted(list(set(arr)))\n",
        "\n",
        "dic = {ans[i]:i for i in range(len(ans))}\n",
        "\n",
        "for i in arr:\n",
        "    sys.stdout.write(dic[i])\n",
        "# sys.stdout.write로 개행하지 않고 연달아 뽑는 방법이 뭘까"
      ],
      "metadata": {
        "id": "PgbhEy9I_se1"
      },
      "execution_count": null,
      "outputs": []
    },
    {
      "cell_type": "markdown",
      "source": [
        "# "
      ],
      "metadata": {
        "id": "ZQvON8F34u_4"
      }
    }
  ]
}