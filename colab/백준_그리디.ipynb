{
  "nbformat": 4,
  "nbformat_minor": 0,
  "metadata": {
    "colab": {
      "provenance": []
    },
    "kernelspec": {
      "name": "python3",
      "display_name": "Python 3"
    },
    "language_info": {
      "name": "python"
    }
  },
  "cells": [
    {
      "cell_type": "markdown",
      "source": [
        "# 이코테"
      ],
      "metadata": {
        "id": "WXz7G0gBJH3I"
      }
    },
    {
      "cell_type": "code",
      "source": [
        "# 시간 측정 코드 포맷\n",
        "import time\n",
        "start_time = time.time()  # 시간 측정\n",
        "\n",
        "#### 소스코드 ####\n",
        "\n",
        "end_time = time.time()  # 시간 측정 종료\n",
        "print(\"time: \", end_time-start_time)  # 수행 시간 출력"
      ],
      "metadata": {
        "id": "yxa5oaLfBNNe"
      },
      "execution_count": null,
      "outputs": []
    },
    {
      "cell_type": "markdown",
      "source": [
        "## 실전 문제"
      ],
      "metadata": {
        "id": "n8iz1AhlO-gN"
      }
    },
    {
      "cell_type": "markdown",
      "source": [
        "### 예제 3-1 ✔"
      ],
      "metadata": {
        "id": "1YxZmhnaJMsd"
      }
    },
    {
      "cell_type": "code",
      "source": [
        "n = 1260\n",
        "count = 0\n",
        "\n",
        "# 큰 단위 화폐부터 차례대로 확인\n",
        "coin_types = [500,100,50,10]\n",
        "for coin in coin_types:\n",
        "  count += n // coin\n",
        "  n %= coin\n",
        "\n",
        "print(count)"
      ],
      "metadata": {
        "colab": {
          "base_uri": "https://localhost:8080/"
        },
        "id": "jKdY0LJUJHoo",
        "outputId": "74c43ae4-a7f3-4d2d-ced6-031573a7ab30"
      },
      "execution_count": null,
      "outputs": [
        {
          "output_type": "stream",
          "name": "stdout",
          "text": [
            "6\n"
          ]
        }
      ]
    },
    {
      "cell_type": "markdown",
      "source": [
        "### 2. 큰 수의 법칙 ✔\n",
        "\n",
        "5 8 3\n",
        "[링크 텍스트](https://)\n",
        "2 4 5 4 6\n",
        "-> 46"
      ],
      "metadata": {
        "id": "qGI31qaPBbEn"
      }
    },
    {
      "cell_type": "code",
      "execution_count": null,
      "metadata": {
        "id": "ZwPtAyoPIleL",
        "colab": {
          "base_uri": "https://localhost:8080/"
        },
        "outputId": "aad2d1ac-b4c3-40e6-ed7d-e24df3d1e008"
      },
      "outputs": [
        {
          "output_type": "stream",
          "name": "stdout",
          "text": [
            "5 8 3\n",
            "2 4 5 4 6\n",
            "46\n"
          ]
        }
      ],
      "source": [
        "n, m, k = map(int, input().split())\n",
        "num = list(map(int, input().split()))\n",
        "num.sort(reverse=True)\n",
        "\n",
        "sum = 0\n",
        "\n",
        "sum += k * (m//k) * num[0]\n",
        "sum += num[1] * (m%k)\n",
        "\n",
        "print(sum)"
      ]
    },
    {
      "cell_type": "markdown",
      "source": [
        "### 3. 숫자 카드 게임 ✔"
      ],
      "metadata": {
        "id": "CYHtI5b5LZeq"
      }
    },
    {
      "cell_type": "code",
      "source": [
        "n, m = map(int, input().split())\n",
        "result = 0\n",
        "\n",
        "for _ in range(n):\n",
        "  li = list(map(int, input().split()))\n",
        "  result = max(result, min(li))\n",
        "\n",
        "print(result)"
      ],
      "metadata": {
        "colab": {
          "base_uri": "https://localhost:8080/"
        },
        "id": "fHhMlH3zLd1X",
        "outputId": "b625549f-faca-454b-e03f-607b478dd23b"
      },
      "execution_count": null,
      "outputs": [
        {
          "output_type": "stream",
          "name": "stdout",
          "text": [
            "2 4\n",
            "7 3 1 8\n",
            "3 3 3 4\n",
            "3\n"
          ]
        }
      ]
    },
    {
      "cell_type": "markdown",
      "source": [
        "### 4. 1이 될 때 까지 ✔"
      ],
      "metadata": {
        "id": "jIYMQl_qMwdY"
      }
    },
    {
      "cell_type": "code",
      "source": [
        "n, k = map(int, input().split())\n",
        "cnt = 0\n",
        "\n",
        "while(n != 1):\n",
        "  if n%k == 0:\n",
        "    n = n//k\n",
        "  else:\n",
        "    n -= 1\n",
        "  cnt += 1\n",
        "\n",
        "print(cnt)"
      ],
      "metadata": {
        "colab": {
          "base_uri": "https://localhost:8080/"
        },
        "id": "LM3oHeRIMzlH",
        "outputId": "1eb0395e-f68b-4935-f98c-92489d57486d"
      },
      "execution_count": null,
      "outputs": [
        {
          "output_type": "stream",
          "name": "stdout",
          "text": [
            "17 4\n",
            "3\n"
          ]
        }
      ]
    },
    {
      "cell_type": "markdown",
      "source": [
        "## 기출 문제"
      ],
      "metadata": {
        "id": "irGXm99RPG7b"
      }
    },
    {
      "cell_type": "markdown",
      "source": [
        "### 01. 모험가 길드 ✔"
      ],
      "metadata": {
        "id": "_o_aiwyQPJUi"
      }
    },
    {
      "cell_type": "code",
      "source": [
        "n = int(input())\n",
        "gList = list(map(int, input().split()))\n",
        "\n",
        "# 길드 모험도 종류\n",
        "g = list(set(gList))\n",
        "\n",
        "# 그룹 수\n",
        "cnt = 0\n",
        "\n",
        "for a in g:\n",
        "  num = gList.count(a)\n",
        "  cnt += num//a\n",
        "\n",
        "print(cnt)"
      ],
      "metadata": {
        "colab": {
          "base_uri": "https://localhost:8080/"
        },
        "id": "WiiBfrm7PO49",
        "outputId": "5f7506f0-58f6-4b28-c77a-11c428dbbbc6"
      },
      "execution_count": null,
      "outputs": [
        {
          "output_type": "stream",
          "name": "stdout",
          "text": [
            "5\n",
            "2 3 1 2 2 \n",
            "2\n"
          ]
        }
      ]
    },
    {
      "cell_type": "markdown",
      "source": [
        "### 02. 곱하기 혹은 더하기 ✔"
      ],
      "metadata": {
        "id": "9a7Y_lW5TU2E"
      }
    },
    {
      "cell_type": "code",
      "source": [
        "import time\n",
        "start_time = time.time()  # 시간 측정\n",
        "\n",
        "num = [int(i) for i in str(input())]\n",
        "\n",
        "result = num[0]\n",
        "\n",
        "if result == 0 or result == 1:\n",
        "  result += num[1]\n",
        "else:\n",
        "  for i in range(2,len(num)):\n",
        "    if(num[i] == 0 or num[i] == 1):\n",
        "      result += num[i]\n",
        "    else:\n",
        "      result *= num[i]\n",
        "\n",
        "print(result)\n",
        "\n",
        "end_time = time.time()  # 시간 측정 종료\n",
        "print(\"time: \", end_time-start_time)  # 수행 시간 출력"
      ],
      "metadata": {
        "colab": {
          "base_uri": "https://localhost:8080/"
        },
        "id": "zigTMefRTZbM",
        "outputId": "72f21a61-5216-4699-a489-5e38ccc26b97"
      },
      "execution_count": null,
      "outputs": [
        {
          "output_type": "stream",
          "name": "stdout",
          "text": [
            "02984\n",
            "2\n",
            "time:  3.462437391281128\n"
          ]
        }
      ]
    },
    {
      "cell_type": "markdown",
      "source": [
        "### 03. 문자열 뒤집기 ✔"
      ],
      "metadata": {
        "id": "pil5LID1eslT"
      }
    },
    {
      "cell_type": "code",
      "source": [
        "import time\n",
        "start_time = time.time()  # 시간 측정\n",
        "\n",
        "li = str(input())\n",
        "ans = []\n",
        "# 1/0 바뀌는 지점 찾기\n",
        "for i in range(len(li)-1):\n",
        "  if li[i] != li[i+1]:\n",
        "    ans += [i]\n",
        "\n",
        "# 한 개 이상 연속인 경우 start:end로 두 세트씩 ans 값이 저장되므로\n",
        "if len(ans)%2 == 0:\n",
        "  print(len(ans)//2)\n",
        "else:\n",
        "  print(len(ans)//2 + 1)\n",
        "\n",
        "end_time = time.time()  # 시간 측정 종료\n",
        "print(\"time: \", end_time-start_time)  # 수행 시간 출력"
      ],
      "metadata": {
        "colab": {
          "base_uri": "https://localhost:8080/"
        },
        "id": "SJXjflOYeypJ",
        "outputId": "9f3af37b-2904-4f79-f1ed-ac1f45fae888"
      },
      "execution_count": null,
      "outputs": [
        {
          "output_type": "stream",
          "name": "stdout",
          "text": [
            "010010011\n",
            "3\n",
            "time:  3.632730007171631\n"
          ]
        }
      ]
    },
    {
      "cell_type": "markdown",
      "source": [
        "### 04. 만들 수 없는 금액 ✔"
      ],
      "metadata": {
        "id": "wyCVzFg7hdZr"
      }
    },
    {
      "cell_type": "code",
      "source": [
        "import time\n",
        "start_time = time.time()  # 시간 측정\n",
        "\n",
        "n = int(input())\n",
        "li = list(map(int, input().split()))\n",
        "li.sort()\n",
        "print(li)\n",
        "answer = 1\n",
        "\n",
        "for l in li:\n",
        "  if l > answer:\n",
        "    answer += l\n",
        "  print(answer)\n",
        "\n",
        "print(answer)\n",
        "\n",
        "end_time = time.time()  # 시간 측정 종료\n",
        "print(\"time: \", end_time-start_time)  # 수행 시간 출력"
      ],
      "metadata": {
        "id": "TshJ4JVDhmyA"
      },
      "execution_count": null,
      "outputs": []
    },
    {
      "cell_type": "markdown",
      "source": [
        "### 05. 볼링공 고르기 ✔"
      ],
      "metadata": {
        "id": "yFGI23ho4qm9"
      }
    },
    {
      "cell_type": "code",
      "source": [
        "import time\n",
        "start_time = time.time()  # 시간 측정\n",
        "\n",
        "n, m = map(int, input().split())\n",
        "lis = list(map(int, input().split()))\n",
        "\n",
        "lis.sort()\n",
        "\n",
        "answer = []\n",
        "\n",
        "for i in range(n-1):\n",
        "  for j in range(i+1, n):\n",
        "    if(lis[i] != lis[j]):\n",
        "      answer.append([i,j])\n",
        "\n",
        "print(len(answer))\n",
        "\n",
        "end_time = time.time()  # 시간 측정 종료\n",
        "print(\"time: \", end_time-start_time)  # 수행 시간 출력"
      ],
      "metadata": {
        "colab": {
          "base_uri": "https://localhost:8080/"
        },
        "id": "OAYshUsK4tCt",
        "outputId": "11ea579d-5004-4ac0-c010-0c312d4568a3"
      },
      "execution_count": null,
      "outputs": [
        {
          "output_type": "stream",
          "name": "stdout",
          "text": [
            "8 5\n",
            "1 5 4 3 2 4 5 2\n",
            "25\n",
            "time:  16.660847425460815\n"
          ]
        }
      ]
    },
    {
      "cell_type": "markdown",
      "source": [
        "### 06. 무지의 먹방 라이브"
      ],
      "metadata": {
        "id": "PyehYfS-4tbV"
      }
    },
    {
      "cell_type": "code",
      "source": [],
      "metadata": {
        "id": "h3EmbPQ0CpfR"
      },
      "execution_count": null,
      "outputs": []
    },
    {
      "cell_type": "markdown",
      "source": [
        "# 백준"
      ],
      "metadata": {
        "id": "DiBx_-5kPO_h"
      }
    },
    {
      "cell_type": "markdown",
      "source": [
        "## 11047 동전0 ✔"
      ],
      "metadata": {
        "id": "Kt2VHe1QPRj1"
      }
    },
    {
      "cell_type": "code",
      "source": [
        "cnt, price = map(int, input().split())\n",
        "coin_list = [int(input()) for _ in range(cnt)]\n",
        "count = 0\n",
        "\n",
        "coin_list.sort(reverse=True)\n",
        "\n",
        "for coin in coin_list:\n",
        "    count += (price // coin)\n",
        "    price %= coin\n",
        "    if(price == 0):\n",
        "        break\n",
        "\n",
        "print(count)"
      ],
      "metadata": {
        "colab": {
          "base_uri": "https://localhost:8080/"
        },
        "id": "Q_LiEnckPQxn",
        "outputId": "c283e9c7-21ec-4a03-fc4f-ba30b518624a"
      },
      "execution_count": null,
      "outputs": [
        {
          "output_type": "stream",
          "name": "stdout",
          "text": [
            "10 4200\n",
            "1\n",
            "5\n",
            "10\n",
            "50\n",
            "100\n",
            "500\n",
            "1000\n",
            "5000\n",
            "10000\n",
            "50000\n",
            "6\n"
          ]
        }
      ]
    },
    {
      "cell_type": "markdown",
      "source": [
        "## 1931 회의실 배정 ✔\n",
        "\n",
        "- 참고 블로그\n",
        "https://suri78.tistory.com/26\n"
      ],
      "metadata": {
        "id": "k0vwKyW3Runx"
      }
    },
    {
      "cell_type": "code",
      "source": [
        "n = int(input())\n",
        "time_table = [[0]*2 for _ in range(n)]\n",
        "\n",
        "for i in range(n):\n",
        "  a,b = map(int, input().split())\n",
        "  time_table[i] = [a, b]\n",
        "\n",
        "time_table.sort(key = lambda x:(x[1], x[0]))\n",
        "\n",
        "count = 1\n",
        "end_time = time_table[0][1]\n",
        "\n",
        "for time in time_table:\n",
        "  if time[0] >= end_time:\n",
        "    count += 1\n",
        "    end_time = time[1]\n",
        "\n",
        "print(count)"
      ],
      "metadata": {
        "id": "aW75Sk80R0Z9"
      },
      "execution_count": null,
      "outputs": []
    },
    {
      "cell_type": "code",
      "source": [
        "# 참고한 풀이\n",
        "import sys\n",
        "\n",
        "N = int(sys.stdin.readline())\n",
        "\n",
        "time = [[0]*2 for _ in range(N)]\n",
        "for i in range(N):\n",
        "    s, e = map(int, sys.stdin.readline().split())\n",
        "    time[i][0] = s\n",
        "    time[i][1] = e\n",
        "\n",
        "time.sort(key = lambda x: (x[1], x[0]))\n",
        "\n",
        "cnt = 1\n",
        "end_time = time[0][1]\n",
        "for i in range(1, N):\n",
        "    if time[i][0] >= end_time:\n",
        "        cnt += 1\n",
        "        end_time = time[i][1]\n",
        "\n",
        "print(cnt)"
      ],
      "metadata": {
        "id": "bZoBLa7k3pHH"
      },
      "execution_count": null,
      "outputs": []
    },
    {
      "cell_type": "markdown",
      "source": [
        "## 1541 잃어버린 괄호 ✔"
      ],
      "metadata": {
        "id": "QdA6GC-o48eY"
      }
    },
    {
      "cell_type": "code",
      "source": [
        "func = input().split(\"-\")\n",
        "\n",
        "for i in range(len(func)):\n",
        "  sum = 0\n",
        "  for j in func[i].split(\"+\"):\n",
        "    sum += int(j)\n",
        "  func[i] = sum\n",
        "func[0] = int(func[0])\n",
        "\n",
        "answer = func[0]\n",
        "for a in range(1, len(func)):\n",
        "  answer -= func[a]\n",
        "\n",
        "print(answer)"
      ],
      "metadata": {
        "colab": {
          "base_uri": "https://localhost:8080/"
        },
        "id": "Rs640EAP4-6z",
        "outputId": "61a41e8e-b846-4e08-bf52-4ee0d7284caf"
      },
      "execution_count": null,
      "outputs": [
        {
          "output_type": "stream",
          "name": "stdout",
          "text": [
            "55-50+40-30+20\n",
            "-85\n"
          ]
        }
      ]
    },
    {
      "cell_type": "markdown",
      "source": [
        "## 13305 주유소 ✔"
      ],
      "metadata": {
        "id": "E4VZVjdDNGVu"
      }
    },
    {
      "cell_type": "code",
      "source": [
        "n = int(input())\n",
        "l = list(map(int,input().split()))\n",
        "p = list(map(int,input().split()))\n",
        "cost = 0\n",
        "m = p[0]\n",
        "for i in range(n-1):\n",
        "  if p[i] < m:\n",
        "    m = p[i]\n",
        "  cost += m*l[i]\n",
        "\n",
        "print(cost)"
      ],
      "metadata": {
        "colab": {
          "base_uri": "https://localhost:8080/"
        },
        "id": "3OaH6maWNI6A",
        "outputId": "93acff05-e0af-4404-baab-825198d3bbde"
      },
      "execution_count": null,
      "outputs": [
        {
          "output_type": "stream",
          "name": "stdout",
          "text": [
            "4\n",
            "2 3 1\n",
            "5 2 4 1\n",
            "4 [2, 3, 1] [5, 2, 4, 1]\n",
            "18\n"
          ]
        }
      ]
    },
    {
      "cell_type": "markdown",
      "source": [
        "## 1715 카드 정렬하기\n",
        "\n",
        "https://www.acmicpc.net/problem/1715\n",
        "\n",
        "- 자료구조\n",
        "- 그리디 알고리즘\n",
        "- 우선순위 큐\n"
      ],
      "metadata": {
        "id": "eirT0Ta__9jd"
      }
    },
    {
      "cell_type": "code",
      "source": [
        "n = int(input())\n",
        "li = [int(input()) for _ in range(n)]\n",
        "\n",
        "li.sort()\n",
        "\n",
        "total = [0]*(n-1)\n",
        "total[0] = li[0] + li[1]\n",
        "\n",
        "for i in range(1,n-1):\n",
        "  total[i] = total[i-1]+li[i+1]\n",
        "\n",
        "print(sum(total))"
      ],
      "metadata": {
        "colab": {
          "base_uri": "https://localhost:8080/"
        },
        "id": "DW0ruIxb__a2",
        "outputId": "1d957b17-5beb-4a9d-e8f4-4b7fa298b083"
      },
      "execution_count": null,
      "outputs": [
        {
          "output_type": "stream",
          "name": "stdout",
          "text": [
            "4\n",
            "10\n",
            "20\n",
            "30\n",
            "40\n",
            "[30, 60, 0]\n",
            "[30, 60, 100]\n",
            "190\n"
          ]
        }
      ]
    }
  ]
}