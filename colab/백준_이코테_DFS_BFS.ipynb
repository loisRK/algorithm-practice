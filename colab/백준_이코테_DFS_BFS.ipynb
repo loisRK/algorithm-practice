{
  "nbformat": 4,
  "nbformat_minor": 0,
  "metadata": {
    "colab": {
      "provenance": [],
      "collapsed_sections": [
        "gIiZTQ15dsWO",
        "vjMa1-8pkusa",
        "TlHbeFX4xTxY",
        "vwd4d5M34Q4S"
      ]
    },
    "kernelspec": {
      "name": "python3",
      "display_name": "Python 3"
    },
    "language_info": {
      "name": "python"
    }
  },
  "cells": [
    {
      "cell_type": "markdown",
      "source": [
        "# DFS/BFS 개념\n",
        "- DFS (Depth-First Search) : 최대한 깊이 내려간 뒤, 더이상 깊이 갈 곳이 없을 경우 옆으로 이동동\n",
        "  \n",
        "  - 모든 노드를 방문하고자 하는경우\n",
        "  - 깊이 우선 탐색(DFS)이 너비 우선 탐색(BFS)보다 간단함\n",
        "  - 검색 속도 자체는 BFS에 비해서 느림\n",
        "  - 스택/재귀함수로 구현\n",
        "\n",
        "- BFS (Breadth-First Search) : 최대한 넓게 이동한 다음, 더이상 갈 수 없을 때 아래로 이동\n",
        "\n",
        "  - 노드 간의 최단 경로를 찾고 싶을 때 사용\n",
        "  - 큐를 이용해 구현\n",
        "\n",
        "- 문제 유형별 응용\n",
        "\n",
        "  - 그래프의 모든 정점을 방문할 때 : DFS/BFS\n",
        "  - 경로의 특징을 저장해야 하는 문제 : DFS\n",
        "  - 최단거리 구하는 문제(미로찾기) : BFS \n",
        "  - 검색 대상 그래프가 매우 큰 경우 : DFS\n",
        "  - 검색 대상의 규모가 크지 않고, 검색 시작 지점으로부터 원하는 대상이 멀지 않을 때 : BFS\n",
        "\n",
        "- 시간 복잡도\n",
        "  - 인접행렬 vs 인접리스트\n",
        "    - 인접행렬 : O(V^2)\n",
        "    - 인접리스트 : O(V + E) = O(max(V,E))\n",
        "\n",
        "      V : 정점, E : 간선\n"
      ],
      "metadata": {
        "id": "oHk2SzK2_Hkk"
      }
    },
    {
      "cell_type": "code",
      "source": [
        "# DFS (깊이 우선 탐색)\n",
        "\n",
        "# 인접행렬\n",
        "adj = [[0]*13 for _ in range(13)]  # 13 x 13 빈 행렬 생성\n",
        "# 인접행렬에 노드 값을 입력함\n",
        "adj[0][1] = adj[0][7] = 1\n",
        "adj[1][2] = adj[1][5] = 1\n",
        "\n",
        "# 탐색\n",
        "def dfs(now):\n",
        "  for nxt in range(13):\n",
        "    if adj[now][nxt] :    # 현재 노드의 다음 간선으로 가는 길이 존재하면 다음으로 이동동\n",
        "      dfs(nxt)\n",
        "\n",
        "dfs()"
      ],
      "metadata": {
        "id": "NxYIHZMpN3kQ"
      },
      "execution_count": null,
      "outputs": []
    },
    {
      "cell_type": "code",
      "source": [
        "# BFS (너비 우선 탐색)\n",
        "from collections import deque\n",
        "\n",
        "adj = [[0]*13 for _ in range(13)]\n",
        "adj[0][1] = adj[0][2] = 1\n",
        "adj[1][3] = adj[1][4] = 1\n",
        "\n",
        "def bfs():\n",
        "  dq = deque()    # deque 객체 생성성\n",
        "  dq.append(0)\n",
        "  while dq:       # 더이상 갈 수 있는 deque가 없으면 종료되는 루프프\n",
        "    now = dq.popleft()    # 현재 노드를 큐에서 빼고\n",
        "    for nxt in range(13):\n",
        "      if adj[now][nxt]:   # 현재 노드에서 갈 수 있는 다음 노드들을 큐에 추가함\n",
        "        dq.append(nxt)\n",
        "  return dq\n",
        "\n",
        "print(bfs())"
      ],
      "metadata": {
        "id": "ZQZaVuZoPAWc",
        "colab": {
          "base_uri": "https://localhost:8080/"
        },
        "outputId": "dd17d087-d097-4c53-93c6-d4a101a6e3ad"
      },
      "execution_count": null,
      "outputs": [
        {
          "output_type": "stream",
          "name": "stdout",
          "text": [
            "deque([])\n"
          ]
        }
      ]
    },
    {
      "cell_type": "markdown",
      "source": [
        "# 백준"
      ],
      "metadata": {
        "id": "1gm-RDwMdqDd"
      }
    },
    {
      "cell_type": "markdown",
      "source": [
        "## 11724 연결 요수 갯수 ✔\n",
        "https://www.acmicpc.net/problem/11724"
      ],
      "metadata": {
        "id": "gIiZTQ15dsWO"
      }
    },
    {
      "cell_type": "code",
      "source": [
        "# 파이썬 기본 재귀루프한도 1000 -> 넉넉하게 늘려주어 recursion에러 방지\n",
        "import sys\n",
        "sys.setrecursionlimit(10**6)  \n",
        "# input = sys.stdin.readline\n",
        "\n",
        "n, m = map(int, input().split())\n",
        "adj = [[0]*n for _ in range(n)]   # 인접행렬만들기\n",
        "for _ in range(m):\n",
        "  a,b = map(lambda x:x-1, map(int, input().split()))  # 정점번호가 1부터 시작하므로 1을 빼줌\n",
        "  adj[a][b] = adj[b][a] = 1\n",
        "\n",
        "ans = 0   # 연결요소 갯수\n",
        "chk = [False]*n   # check리스트 생성\n",
        "\n",
        "def dfs(now):\n",
        "  for nxt in range(n):\n",
        "    # 한번 방문한곳은 가지 않게 하기 위해 조건을 걸어줌\n",
        "    if adj[now][nxt] and not chk[nxt]:\n",
        "      chk[nxt] = True\n",
        "      dfs(nxt)\n",
        "\n",
        "for i in range(n):\n",
        "  if not chk[i]:\n",
        "    ans += 1\n",
        "    chk[i] = True\n",
        "    dfs(i)\n",
        "\n",
        "print(ans)"
      ],
      "metadata": {
        "id": "pyU22kv5dyB1",
        "colab": {
          "base_uri": "https://localhost:8080/"
        },
        "outputId": "2f2e5bab-647b-4c9e-ae8c-d38047f5f55f"
      },
      "execution_count": null,
      "outputs": [
        {
          "output_type": "stream",
          "name": "stdout",
          "text": [
            "6 5\n",
            "1 2\n",
            "2 5\n",
            "5 1\n",
            "3 4\n",
            "4 6\n",
            "2\n"
          ]
        }
      ]
    },
    {
      "cell_type": "markdown",
      "source": [
        "## 2178 미로탐색 ✔\n",
        "https://www.acmicpc.net/problem/2178\n",
        "- 최단거리 탐색 알고리즘 : BFS"
      ],
      "metadata": {
        "id": "vjMa1-8pkusa"
      }
    },
    {
      "cell_type": "code",
      "source": [
        "from collections import deque\n",
        "\n",
        "\n",
        "n, m = map(int, input().split())\n",
        "board = [input() for _ in range(n)]\n",
        "\n",
        "def is_valid_coord(y, x):\n",
        "  return 0 <= y < n and 0 <= x < m\n",
        "\n",
        "def bfs():\n",
        "  # 모든 경로를 탐색해야하므로 보드판과 같은 사이즈의 체크판 생성\n",
        "  chk = [[False] * m for _ in range(n)]   \n",
        "  chk[0][0] = True\n",
        "  dq = deque()\n",
        "  dq.append((0,0,1))    # 시작 위치 y, x와 카운트를 세기 위한 1\n",
        "  while dq:\n",
        "    y,x,d = dq.popleft()\n",
        "\n",
        "    if y == n-1 and x == m-1:\n",
        "      return d\n",
        "\n",
        "    nd = d + 1\n",
        "    for k in range(4):\n",
        "      ny = y + dy[k]\n",
        "      nx = x + dx[k]\n",
        "      if is_valid_coord(ny, nx) and board[ny][nx] == '1' and not chk[ny][nx]:\n",
        "        chk[ny][nx] = True\n",
        "        dq.append((ny, nx, nd))\n",
        "\n",
        "print(bfs())"
      ],
      "metadata": {
        "colab": {
          "base_uri": "https://localhost:8080/"
        },
        "id": "_mMgD3gJk3pu",
        "outputId": "388a5cad-175b-4bee-de92-f53fea4f857c"
      },
      "execution_count": null,
      "outputs": [
        {
          "output_type": "stream",
          "name": "stdout",
          "text": [
            "4 6\n",
            "101111\n",
            "101010\n",
            "101011\n",
            "111011\n",
            "15\n"
          ]
        }
      ]
    },
    {
      "cell_type": "markdown",
      "source": [
        "## 1260 DFS와 BFS ✔ ⭐\n",
        "https://www.acmicpc.net/problem/1260"
      ],
      "metadata": {
        "id": "TlHbeFX4xTxY"
      }
    },
    {
      "cell_type": "code",
      "source": [
        "from collections import deque\n",
        "\n",
        "# dfs - 재귀함수\n",
        "def dfs(now):\n",
        "  chk[now] = True\n",
        "  print(now+1, end=' ')\n",
        "  for nxt in range(n):\n",
        "    if adj[now][nxt] and not chk[nxt]:\n",
        "      dfs(nxt)\n",
        "\n",
        "# bfs - deque(큐)\n",
        "def bfs(now):\n",
        "  dq = deque([now])\n",
        "  chk2[now] = True\n",
        "  while dq:\n",
        "    s = dq.popleft()\n",
        "    print(s+1, end=' ')\n",
        "    for nxt in range(n):\n",
        "      if adj[s][nxt] and not chk2[nxt]:\n",
        "        chk2[nxt] = True\n",
        "        dq.append(nxt)\n",
        "\n",
        "n, m, s = map(int, input().split())\n",
        "adj = [[0]*n for _ in range(n)]\n",
        "for _ in range(m):\n",
        "  a,b = map(lambda x:x-1, map(int, input().split()))\n",
        "  adj[a][b] = adj[b][a] = 1\n",
        "\n",
        "chk = [False]*n   # dfs check list\n",
        "chk2 = [False]*n  # bfs check list\n",
        "\n",
        "dfs(s-1)\n",
        "print()\n",
        "bfs(s-1)"
      ],
      "metadata": {
        "colab": {
          "base_uri": "https://localhost:8080/"
        },
        "id": "o8lvjvtCxYwF",
        "outputId": "46e6fcfa-21d3-4d5c-c47b-34aacae395ea"
      },
      "execution_count": null,
      "outputs": [
        {
          "output_type": "stream",
          "name": "stdout",
          "text": [
            "1000 1 1000\n",
            "999 1000\n",
            "1000 999 \n",
            "1000 999 "
          ]
        }
      ]
    },
    {
      "cell_type": "markdown",
      "source": [
        "## 2606 바이러스 ✔\n",
        "https://www.acmicpc.net/problem/2606"
      ],
      "metadata": {
        "id": "vwd4d5M34Q4S"
      }
    },
    {
      "cell_type": "code",
      "source": [
        "n = int(input())\n",
        "m = int(input())\n",
        "adj = [[0]*n for _ in range(n)]\n",
        "for _ in range(m):\n",
        "  a,b = map(lambda x:x-1, map(int, input().split()))\n",
        "  adj[a][b] = adj[b][a] = 1\n",
        "\n",
        "ans = 0   # 1번노드에 연결된 노드 수 count\n",
        "chk = [False]*n\n",
        "\n",
        "def dfs(now):\n",
        "  chk[now] = True\n",
        "  for nxt in range(n):\n",
        "    if adj[now][nxt] and not chk[nxt]:\n",
        "      global ans \n",
        "      ans += 1\n",
        "      dfs(nxt)\n",
        "\n",
        "dfs(0)    # 1번노드부터 시작 -> 인덱스 0으로 변환환\n",
        "\n",
        "print(ans)"
      ],
      "metadata": {
        "colab": {
          "base_uri": "https://localhost:8080/"
        },
        "id": "1Q5_fpZN4TeV",
        "outputId": "14ab15d1-12a7-4ee1-9e16-a110806e4a07"
      },
      "execution_count": null,
      "outputs": [
        {
          "output_type": "stream",
          "name": "stdout",
          "text": [
            "7\n",
            "6\n",
            "1 2\n",
            "2 3\n",
            "1 5\n",
            "5 2\n",
            "5 6\n",
            "4 7\n",
            "4\n"
          ]
        }
      ]
    },
    {
      "cell_type": "markdown",
      "source": [
        "# 이코테"
      ],
      "metadata": {
        "id": "6cqEhjW8iq7j"
      }
    },
    {
      "cell_type": "markdown",
      "source": [
        "## 실전문제"
      ],
      "metadata": {
        "id": "abttnLiy63Fi"
      }
    },
    {
      "cell_type": "markdown",
      "source": [
        "### 음료수 얼려 먹기\n",
        "\n",
        "난이도:1.5, 풀이시간:30분, 시간제한:1초"
      ],
      "metadata": {
        "id": "PMdD9cfiB9d1"
      }
    },
    {
      "cell_type": "code",
      "execution_count": 8,
      "metadata": {
        "id": "vzmch9EfinC_",
        "colab": {
          "base_uri": "https://localhost:8080/"
        },
        "outputId": "bd2e73af-69a1-42d5-a57d-b9147bea17e4"
      },
      "outputs": [
        {
          "output_type": "stream",
          "name": "stdout",
          "text": [
            "4 5\n",
            "00110\n",
            "00011\n",
            "11111\n",
            "00000\n",
            "3\n"
          ]
        }
      ],
      "source": [
        "0# n, m을 공백으로 구분하여 입력받기\n",
        "n, m = map(int, input().split())\n",
        "\n",
        "# 2차원 리스트의 앱 정보 입력받기\n",
        "board = []\n",
        "for i in range(n):\n",
        "  board.append(list(map(int, input())))\n",
        "\n",
        "# DFS로 특정한 노드를 방문한 뒤에 연결된 모든 노드들도 방문\n",
        "def dfs(x,y):\n",
        "  # 주어진 범위를 벗어나는 경우에 즉시 종료\n",
        "  if x <= -1 or x >= n or y <= -1 or y >= m:\n",
        "    return False\n",
        "  \n",
        "  # 현재 노드를 아직 방문하지 않았다면\n",
        "  if board[x][y] == 0:\n",
        "    # 해당 노드 방문 처리\n",
        "    board[x][y] = 1\n",
        "    # 상,하,좌,우 위치도 모두 재귀적으로 호출\n",
        "    dfs(x-1,y)\n",
        "    dfs(x,y-1)\n",
        "    dfs(x+1,y)\n",
        "    dfs(x,y+1)\n",
        "    return True\n",
        "  return False\n",
        "\n",
        "# 모든 노드에 대하여 음료수 채우기\n",
        "result = 0\n",
        "for i in range(n):\n",
        "  for j in range(m):\n",
        "    # 현재 위치에서 DFS 수행\n",
        "    if dfs(i, j) == True:\n",
        "      result += 1\n",
        "\n",
        "print(result)"
      ]
    }
  ]
}