{
  "nbformat": 4,
  "nbformat_minor": 0,
  "metadata": {
    "colab": {
      "provenance": [],
      "toc_visible": true,
      "collapsed_sections": [
        "-PitT4OrDVK1",
        "RVuh38ssabVM",
        "tV1U6wSzdlt4",
        "-BEcEH_ZlZxz",
        "Mgf_TIJiN0Tf",
        "liOspZiGOckw",
        "aMjzbCj-mN5Q"
      ]
    },
    "kernelspec": {
      "name": "python3",
      "display_name": "Python 3"
    },
    "language_info": {
      "name": "python"
    }
  },
  "cells": [
    {
      "cell_type": "markdown",
      "source": [
        "# 이코테"
      ],
      "metadata": {
        "id": "835AttzLNuNB"
      }
    },
    {
      "cell_type": "code",
      "source": [
        "# 시간 측정 코드 포맷\n",
        "import time\n",
        "start_time = time.time()  # 시간 측정\n",
        "\n",
        "#### 소스코드 ####\n",
        "\n",
        "end_time = time.time()  # 시간 측정 종료\n",
        "print(\"time: \", end_time-start_time)  # 수행 시간 출력"
      ],
      "metadata": {
        "id": "XPvyr2AjaCxb"
      },
      "execution_count": null,
      "outputs": []
    },
    {
      "cell_type": "markdown",
      "source": [
        "## 예제 4-1 상하좌우 ✔\n",
        "\n",
        "난이도:1, 풀이시간:15분, 시간제한:1초"
      ],
      "metadata": {
        "id": "-PitT4OrDVK1"
      }
    },
    {
      "cell_type": "markdown",
      "source": [
        "### 내 풀이"
      ],
      "metadata": {
        "id": "RVuh38ssabVM"
      }
    },
    {
      "cell_type": "code",
      "source": [
        "n = int(input())\n",
        "plan = list(map(str, input().split()))\n",
        "\n",
        "# 시간 측정 코드 포맷\n",
        "import time\n",
        "start_time = time.time()  # 시간 측정\n",
        "\n",
        "loc = [1,1]\n",
        "\n",
        "for p in plan:\n",
        "  if p == \"L\":\n",
        "    new_y = loc[1]-1\n",
        "    if new_y <= 0:\n",
        "      continue\n",
        "    else:\n",
        "      loc[1] = new_y\n",
        "  elif p ==\"R\":\n",
        "    new_y = loc[1]+1\n",
        "    if new_y > n:\n",
        "      continue\n",
        "    else:\n",
        "      loc[1] = new_y\n",
        "  elif p ==\"U\":\n",
        "    new_x = loc[0]-1\n",
        "    if new_x <= 0:\n",
        "      continue\n",
        "    else:\n",
        "      loc[0] = new_x\n",
        "  elif p ==\"D\":\n",
        "    new_x = loc[0]+1\n",
        "    if new_x > n:\n",
        "      continue\n",
        "    else:\n",
        "      loc[0] = new_x\n",
        "\n",
        "print(str(loc[0]) + \" \" + str(loc[1]))\n",
        "end_time = time.time()  # 시간 측정 종료\n",
        "print(\"time: \", end_time-start_time)  # 수행 시간 출력"
      ],
      "metadata": {
        "id": "DKWuMtHfNxwu",
        "colab": {
          "base_uri": "https://localhost:8080/"
        },
        "outputId": "5407bf47-1315-465c-c176-bfd41b4f18a8"
      },
      "execution_count": null,
      "outputs": [
        {
          "output_type": "stream",
          "name": "stdout",
          "text": [
            "5\n",
            "R R R U D D\n",
            "3 4\n",
            "time:  0.00040340423583984375\n"
          ]
        }
      ]
    },
    {
      "cell_type": "markdown",
      "source": [
        "### 예제 답안 예시"
      ],
      "metadata": {
        "id": "tR8Uoy6GadPx"
      }
    },
    {
      "cell_type": "code",
      "source": [
        "# n 입력받기\n",
        "n = int(input())\n",
        "x, y = (1,1)\n",
        "plans = input().split()\n",
        "\n",
        "# 시간 측정 코드 포맷\n",
        "import time\n",
        "start_time = time.time()  # 시간 측정\n",
        "\n",
        "# L,R,U,D direction\n",
        "dx = [0,0,-1,1]\n",
        "dy = [-1,1,0,0]\n",
        "move_types = ['L','R','U','D']\n",
        "\n",
        "# 이동계획 확인\n",
        "for plan in plans:\n",
        "  # 이동 후 좌표 구하기\n",
        "  for i in range(len(move_types)):\n",
        "    if plan == move_types[i]:\n",
        "      nx = x + dx[i]\n",
        "      ny = y + dy[i]\n",
        "  # 공간을 벗어나는 경우 무시\n",
        "  if nx < 1 or ny < 1 or nx > n or ny > n:\n",
        "    continue\n",
        "  # 이동 수행\n",
        "  x, y = nx, ny\n",
        "\n",
        "print(x, y)\n",
        "\n",
        "end_time = time.time()  # 시간 측정 종료\n",
        "print(\"time: \", end_time-start_time)  # 수행 시간 출력"
      ],
      "metadata": {
        "colab": {
          "base_uri": "https://localhost:8080/"
        },
        "id": "zh3RYIwwag1y",
        "outputId": "d7d9c2e4-717b-4b1e-c7a6-c4ef8c360023"
      },
      "execution_count": null,
      "outputs": [
        {
          "output_type": "stream",
          "name": "stdout",
          "text": [
            "5\n",
            "R R R U D D\n",
            "3 4\n",
            "time:  0.0020720958709716797\n"
          ]
        }
      ]
    },
    {
      "cell_type": "markdown",
      "source": [
        "## 예제 4-2 시각 ✔\n",
        "\n",
        "난이도:1, 풀이시간:15분, 시간제한:2초"
      ],
      "metadata": {
        "id": "tV1U6wSzdlt4"
      }
    },
    {
      "cell_type": "code",
      "source": [
        "n = int(input())\n",
        "\n",
        "# 시간 측정 코드 포맷\n",
        "import time\n",
        "start_time = time.time()  # 시간 측정\n",
        "\n",
        "cnt = 0\n",
        "for i in range(n+1):\n",
        "  for j in range(60):\n",
        "    for k in range(60):\n",
        "      if '3' in str(i) + str(j) + str(k):\n",
        "        cnt += 1\n",
        "\n",
        "print(cnt)\n",
        "\n",
        "end_time = time.time()  # 시간 측정 종료\n",
        "print(\"time: \", end_time-start_time)  # 수행 시간 출력"
      ],
      "metadata": {
        "colab": {
          "base_uri": "https://localhost:8080/"
        },
        "id": "Q0T_fPAOdzEH",
        "outputId": "e77719b6-11ca-4b26-913a-bd41245bb932"
      },
      "execution_count": null,
      "outputs": [
        {
          "output_type": "stream",
          "name": "stdout",
          "text": [
            "5\n",
            "11475\n",
            "time:  0.022730112075805664\n"
          ]
        }
      ]
    },
    {
      "cell_type": "markdown",
      "source": [
        "## 실전문제 왕실의 나이트\n",
        "\n",
        "난이도:1, 풀이시간:20분, 시간제한:1초"
      ],
      "metadata": {
        "id": "k1GGatv7frFx"
      }
    },
    {
      "cell_type": "code",
      "source": [],
      "metadata": {
        "id": "V7up-PZQf6XM"
      },
      "execution_count": null,
      "outputs": []
    },
    {
      "cell_type": "markdown",
      "source": [
        "## 실전문제 게임 개발\n",
        "\n",
        "난이도:2, 풀이시간:40분, 시간제한:1초"
      ],
      "metadata": {
        "id": "noMxIuqXf6jH"
      }
    },
    {
      "cell_type": "code",
      "source": [],
      "metadata": {
        "id": "E4YwVyb6gB0p"
      },
      "execution_count": null,
      "outputs": []
    },
    {
      "cell_type": "markdown",
      "source": [
        "# 백준"
      ],
      "metadata": {
        "id": "RolRIEo_Ny_i"
      }
    },
    {
      "cell_type": "markdown",
      "source": [
        "## 1474 방번호 S5 ✔"
      ],
      "metadata": {
        "id": "-BEcEH_ZlZxz"
      }
    },
    {
      "cell_type": "code",
      "source": [
        "num = list(str(input()))\n",
        "cnt = [0]*10\n",
        "\n",
        "for i in range(len(num)):\n",
        "  n = int(num[i])\n",
        "  if n == 6 or n == 9:\n",
        "    if cnt[6] <= cnt[9]:\n",
        "      cnt[6] += 1\n",
        "    else:\n",
        "      cnt[9] += 1\n",
        "  else:\n",
        "    cnt[n] += 1\n",
        "\n",
        "print(max(cnt))"
      ],
      "metadata": {
        "colab": {
          "base_uri": "https://localhost:8080/"
        },
        "id": "DP3sQDJlfs6r",
        "outputId": "0376ba0d-d7bb-45d2-e54c-2cc5be19a411"
      },
      "execution_count": null,
      "outputs": [
        {
          "output_type": "stream",
          "name": "stdout",
          "text": [
            "35996\n",
            "2\n"
          ]
        }
      ]
    },
    {
      "cell_type": "markdown",
      "source": [
        "## 4673 셀프 넘버 S5 ✔"
      ],
      "metadata": {
        "id": "Mgf_TIJiN0Tf"
      }
    },
    {
      "cell_type": "code",
      "source": [
        "number = set(range(1, 10000))\n",
        "gen_num = set()\n",
        "\n",
        "for i in range(1, 10001):\n",
        "  for j in str(i):\n",
        "    i += int(j)\n",
        "  gen_num.add(i)\n",
        "\n",
        "self_num = sorted(number - gen_num)\n",
        "for i in self_num:\n",
        "  print(i)"
      ],
      "metadata": {
        "id": "PVdXJ8FyNz1Z"
      },
      "execution_count": null,
      "outputs": []
    },
    {
      "cell_type": "markdown",
      "source": [
        "## 1157 단어 공부 B1 ✔"
      ],
      "metadata": {
        "id": "liOspZiGOckw"
      }
    },
    {
      "cell_type": "code",
      "source": [
        "w = 'zZa'\n",
        "print(w.lower())"
      ],
      "metadata": {
        "colab": {
          "base_uri": "https://localhost:8080/"
        },
        "id": "9gyFvOfQS7uC",
        "outputId": "50f81ec0-4794-4477-a01e-fd6be2f38aba"
      },
      "execution_count": null,
      "outputs": [
        {
          "output_type": "stream",
          "name": "stdout",
          "text": [
            "zza\n"
          ]
        }
      ]
    },
    {
      "cell_type": "code",
      "source": [
        "word = list(str(input()).upper()) # 입력받은 단어\n",
        "word_t = list(set(word))  # 알파벳 중복 제거\n",
        "\n",
        "cnt = [0]*len(word_t) # 중복 횟수 입력할 빈 리스트 생성\n",
        "\n",
        "for i in range(len(word_t)):\n",
        "  cnt[i] = word.count(word_t[i])  # 중복 횟수 count\n",
        "\n",
        "max_cnt = max(cnt)  # 최대 중복 횟수 고르기\n",
        "if cnt.count(max_cnt) > 1:  # 최대 중복횟수가 cnt 리스트에 여러개면 ? 출력\n",
        "  print(\"?\")\n",
        "else:                       # 최대 중복횟수가 1이면 그 알파벳 출력\n",
        "  print(word_t[cnt.index(max_cnt)])"
      ],
      "metadata": {
        "colab": {
          "base_uri": "https://localhost:8080/"
        },
        "id": "37kzGDhCPjzv",
        "outputId": "a717081e-8df5-49da-98c9-79d8810da1a1"
      },
      "execution_count": null,
      "outputs": [
        {
          "output_type": "stream",
          "name": "stdout",
          "text": [
            "zZa\n",
            "Z\n"
          ]
        }
      ]
    },
    {
      "cell_type": "markdown",
      "source": [
        "## 1110 더하기 사이클 B1"
      ],
      "metadata": {
        "id": "tyDSsuFHU53l"
      }
    },
    {
      "cell_type": "code",
      "source": [
        "n = str(input())\n",
        "\n"
      ],
      "metadata": {
        "id": "UTl0vnkBU98H"
      },
      "execution_count": null,
      "outputs": []
    },
    {
      "cell_type": "markdown",
      "source": [
        "## 1316 그룹 단어 체커 S5\n",
        "\n",
        "- sorted(word, key=word.find)\n",
        "  : word의 알파벳 순서에 맞춰서 정렬함"
      ],
      "metadata": {
        "id": "anzF-hr_VU1i"
      }
    },
    {
      "cell_type": "code",
      "source": [
        "print('str'.find('s'))"
      ],
      "metadata": {
        "colab": {
          "base_uri": "https://localhost:8080/"
        },
        "id": "V8VlvnmxYQzR",
        "outputId": "7c0be977-75e2-4851-8a24-0a5f11e220db"
      },
      "execution_count": null,
      "outputs": [
        {
          "output_type": "stream",
          "name": "stdout",
          "text": [
            "0\n"
          ]
        }
      ]
    },
    {
      "cell_type": "code",
      "source": [
        "n =  int(input())\n",
        "\n",
        "cnt = 0\n",
        "\n",
        "for i in range(n):\n",
        "  word = input()\n",
        "  print(list(word))\n",
        "  print(sorted(word, key=word.find))\n",
        "  if list(word) == sorted(word, key=word.find):\n",
        "    cnt += 1\n",
        "\n",
        "print(cnt)"
      ],
      "metadata": {
        "colab": {
          "base_uri": "https://localhost:8080/"
        },
        "id": "V1f4uKj3VWzg",
        "outputId": "cff69a42-4790-4146-b17f-46e57521d5ce"
      },
      "execution_count": null,
      "outputs": [
        {
          "output_type": "stream",
          "name": "stdout",
          "text": [
            "3\n",
            "aba\n",
            "['a', 'b', 'a']\n",
            "['a', 'a', 'b']\n",
            "abab\n",
            "['a', 'b', 'a', 'b']\n",
            "['a', 'a', 'b', 'b']\n",
            "a\n",
            "['a']\n",
            "['a']\n",
            "1\n"
          ]
        }
      ]
    },
    {
      "cell_type": "markdown",
      "source": [
        "## 1715 카드 정렬하기 G4"
      ],
      "metadata": {
        "id": "Yr7X9vxec1-8"
      }
    },
    {
      "cell_type": "code",
      "source": [
        "# 일반 정렬로 해결할 경우 시간초과 에러가 발생함\n",
        "n = int(input())\n",
        "card = [int(input()) for _ in range(n)]\n",
        "card.sort()\n",
        "result = card[0]\n",
        "total = [0]*n\n",
        "for i in range(1, n):\n",
        "  result += card[i]\n",
        "  total[i] = result\n",
        "\n",
        "print(sum(total))"
      ],
      "metadata": {
        "colab": {
          "base_uri": "https://localhost:8080/"
        },
        "id": "6zQnkNnVoiTw",
        "outputId": "fdb292f1-e15e-4f3a-a6d6-5dd9cf0f47ca"
      },
      "execution_count": null,
      "outputs": [
        {
          "output_type": "stream",
          "name": "stdout",
          "text": [
            "3\n",
            "10\n",
            "20\n",
            "40\n",
            "100\n"
          ]
        }
      ]
    },
    {
      "cell_type": "code",
      "source": [
        "import sys, heapq\n",
        "\n",
        "N = int(sys.stdin.readline())\n",
        "cards = [int(sys.stdin.readline()) for i in range(N)]\n",
        "heapq.heapify(cards)\n",
        "cnt = 0\n",
        "\n",
        "while len(cards) > 1:\n",
        "    tmp = heapq.heappop(cards) + heapq.heappop(cards)\n",
        "    heapq.heappush(cards, tmp)\n",
        "    cnt += tmp\n",
        "    \n",
        "print(cnt)"
      ],
      "metadata": {
        "id": "Ron6wVWSrMN8"
      },
      "execution_count": null,
      "outputs": []
    },
    {
      "cell_type": "markdown",
      "source": [
        "## 2941 크로아티아 알파벳 S5 ✔"
      ],
      "metadata": {
        "id": "aMjzbCj-mN5Q"
      }
    },
    {
      "cell_type": "code",
      "source": [
        "sen = str(input())\n",
        "croatia_transfer = [\"c=\", \"c-\", \"dz=\", \"d-\", \"lj\", \"nj\", \"s=\", \"z=\"]\n",
        "\n",
        "cnt = 0\n",
        "for c in croatia_transfer:\n",
        "\n",
        "  sen = sen.replace(c,\"_\")\n",
        "  print(sen)\n",
        "\n",
        "print(sen)\n",
        "print(len(sen))"
      ],
      "metadata": {
        "colab": {
          "base_uri": "https://localhost:8080/"
        },
        "id": "jTdVxCKZmRkB",
        "outputId": "b81ab07a-1fe6-4700-aaaa-956372397215"
      },
      "execution_count": null,
      "outputs": [
        {
          "output_type": "stream",
          "name": "stdout",
          "text": [
            "ljes=njak\n",
            "ljes=njak\n",
            "ljes=njak\n",
            "ljes=njak\n",
            "ljes=njak\n",
            "_es=njak\n",
            "_es=_ak\n",
            "_e__ak\n",
            "_e__ak\n",
            "_e__ak\n",
            "6\n"
          ]
        }
      ]
    },
    {
      "cell_type": "code",
      "source": [
        "li = [0,2]\n",
        "li.append(3)\n",
        "print(li)"
      ],
      "metadata": {
        "colab": {
          "base_uri": "https://localhost:8080/"
        },
        "id": "GLMY6yqJbZJ6",
        "outputId": "edbaf5ff-87dd-458f-eb2a-e5b4b3e74309"
      },
      "execution_count": null,
      "outputs": [
        {
          "output_type": "stream",
          "name": "stdout",
          "text": [
            "[0, 2, 3]\n"
          ]
        }
      ]
    }
  ]
}